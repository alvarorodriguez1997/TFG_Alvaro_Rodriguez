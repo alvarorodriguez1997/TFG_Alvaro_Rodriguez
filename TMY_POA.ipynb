{
 "cells": [
  {
   "cell_type": "code",
   "execution_count": null,
   "metadata": {},
   "outputs": [],
   "source": [
    "import pandas as pd\n",
    "import pvlib \n",
    "from pvlib import solarposition\n",
    "import datetime \n",
    "tz = 'Europe/Madrid' #Zona para medir\n",
    "lat, long = 40.40538, -3.70146 #Situación geográfica\n",
    "superf = {'surface_tilt': 30,'surface_azimuth': 180} #Inclinación y acimut de la superficie inclinada"
   ]
  },
  {
   "cell_type": "code",
   "execution_count": null,
   "metadata": {},
   "outputs": [],
   "source": [
    "medidas_tmy=pvlib.iotools.get_pvgis_tmy(lat, long, outputformat='epw', url='https://re.jrc.ec.europa.eu/api/',startyear=2005, endyear=2016, timeout=30)\n"
   ]
  },
  {
   "cell_type": "code",
   "execution_count": null,
   "metadata": {},
   "outputs": [],
   "source": [
    "datos=medidas_tmy[0][[\"ghi\",\"dni\",\"dhi\"]]\n",
    "nueva_fecha=[]\n",
    "for i in range(len(datos)): \n",
    "    nueva_fecha.append(datos.index[i].replace(year=2016)+datetime.timedelta(minutes=30))\n",
    "datos_2016=datos.reindex(nueva_fecha) #definición de datos buenos. Si no, no existe\n",
    "datos_2016[\"ghi\"][:]=datos[\"ghi\"][:] \n",
    "datos_2016[\"dni\"][:]=datos[\"dni\"][:] \n",
    "datos_2016[\"dhi\"][:]=datos[\"dhi\"][:]\n",
    "pd.set_option(\"max_columns\", None) #Showing only two columns\n",
    "pd.set_option(\"max_rows\", None)\n"
   ]
  },
  {
   "cell_type": "code",
   "execution_count": null,
   "metadata": {},
   "outputs": [],
   "source": [
    "solar_pos = solarposition.get_solarposition(nueva_fecha, lat, long) #OBTENGO POSICIÓN SOLAR\n",
    "solar_pos"
   ]
  },
  {
   "cell_type": "code",
   "execution_count": null,
   "metadata": {},
   "outputs": [],
   "source": [
    "poa = pvlib.irradiance.get_total_irradiance(superf['surface_tilt'],superf['surface_azimuth'], solar_pos['zenith'] , \n",
    "solar_pos['azimuth'], datos_2016['dni'], datos_2016['ghi'] , datos_2016 ['dhi'], \n",
    "dni_extra=None, airmass=None, albedo=0.10,surface_type=None, model='isotropic', model_perez='allsitescomposite1990')\n",
    "poa\n"
   ]
  }
 ],
 "metadata": {
  "kernelspec": {
   "display_name": "Python 3",
   "language": "python",
   "name": "python3"
  },
  "language_info": {
   "codemirror_mode": {
    "name": "ipython",
    "version": 3
   },
   "file_extension": ".py",
   "mimetype": "text/x-python",
   "name": "python",
   "nbconvert_exporter": "python",
   "pygments_lexer": "ipython3",
   "version": "3.9.2"
  }
 },
 "nbformat": 4,
 "nbformat_minor": 4
}
