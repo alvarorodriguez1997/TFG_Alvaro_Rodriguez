{
 "cells": [
  {
   "cell_type": "code",
   "execution_count": null,
   "id": "median-dispatch",
   "metadata": {},
   "outputs": [],
   "source": [
    "import osmnx as ox\n",
    "import pandas as pd\n",
    "import pvlib \n",
    "from datetime import datetime, date, time, timedelta "
   ]
  },
  {
   "cell_type": "code",
   "execution_count": null,
   "id": "processed-request",
   "metadata": {},
   "outputs": [],
   "source": [
    "superf = {'surface_tilt': 30,'surface_azimuth': 180} #Inclinación y acimut de la superficie inclinada\n",
    "coord_origen = (40.462846, -3.585232  ) \n",
    "coord_destino = (40.420922, -3.568919 )\n",
    "timezone = 'Etc/GMT+2'\n",
    "altitude=667\n",
    "hora_salida = datetime(2020, 7, 28, 14, 30, 0) #y, m, d, h, min, s "
   ]
  },
  {
   "cell_type": "code",
   "execution_count": null,
   "id": "beginning-heaven",
   "metadata": {},
   "outputs": [],
   "source": [
    "mapa_nodos = ox.graph_from_point (coord_origen, dist=7000, dist_type ='bbox' , network_type = 'drive')\n",
    "fig, ax = ox.plot_graph(mapa_nodos) \n",
    "ox.speed.add_edge_speeds(mapa_nodos , hwy_speeds = 30 , fallback = 30 , precision = 0 )\n",
    "ox.speed.add_edge_travel_times( mapa_nodos , precision = 0 )"
   ]
  },
  {
   "cell_type": "code",
   "execution_count": null,
   "id": "thrown-bumper",
   "metadata": {},
   "outputs": [],
   "source": [
    "# #GRAFICAR A GEODATAFRAME\n",
    "nodos, caminos = ox.graph_to_gdfs(mapa_nodos) #Función de OSMnx que convierte el multidigraph en geodataframes de NODOS y LÍNEAS\n",
    "# pd.set_option(\"max_columns\", None) #Showing only two columns\n",
    "# pd.set_option(\"max_rows\", None)"
   ]
  },
  {
   "cell_type": "code",
   "execution_count": null,
   "id": "intensive-paintball",
   "metadata": {},
   "outputs": [],
   "source": [
    "#------------------SECCIÓN INFORMATIVA-----------------------------#\n",
    "nodos.head() #GeoDataFrames de los nodos\n",
    "caminos.head()"
   ]
  },
  {
   "cell_type": "code",
   "execution_count": null,
   "id": "earned-verification",
   "metadata": {},
   "outputs": [],
   "source": [
    "#---------------------NODOS ORIGEN Y DESTINO SEGÚN COORDENADAS----------------------------------#\n",
    "nodo_origen = ox.get_nearest_node(mapa_nodos, coord_origen, method='haversine', return_dist=False)\n",
    "nodo_destino = ox.get_nearest_node(mapa_nodos, coord_destino, method='haversine', return_dist=False)\n",
    "nodo_origen,nodo_destino"
   ]
  },
  {
   "cell_type": "code",
   "execution_count": null,
   "id": "charming-group",
   "metadata": {},
   "outputs": [],
   "source": [
    "#--------------------------NODOS DE LA RUTA---------------------------------------#\n",
    "ruta = ox.shortest_path(G=mapa_nodos, orig=nodo_origen, dest=nodo_destino, weight='length')\n",
    "print(ruta) #Obtenemos la lista de nodos que se encuentran en el camino más corto.\n",
    "len(ruta)"
   ]
  },
  {
   "cell_type": "code",
   "execution_count": null,
   "id": "premier-shelter",
   "metadata": {},
   "outputs": [],
   "source": [
    "#--------------------------INFORMACIÓN CALLES DE LA RUTA ---------------------------------------#\n",
    "lista_caminos =[]\n",
    "for x in range(1,len(ruta)):\n",
    "    lista_caminos.append(mapa_nodos[ruta[x-1]][ruta[x]])\n",
    "len(lista_caminos)"
   ]
  },
  {
   "cell_type": "code",
   "execution_count": null,
   "id": "dense-stuart",
   "metadata": {},
   "outputs": [],
   "source": [
    "# #--------------------------NOMBRE DE LAS CALLES---------------------------------------#\n",
    "# nombre_calles =[]\n",
    "# for x in range(0,len(lista_caminos)):\n",
    "#     nombre_calles.append(lista_caminos[x][0]['name'])\n",
    "# len(nombre_calles)"
   ]
  },
  {
   "cell_type": "code",
   "execution_count": null,
   "id": "instructional-climate",
   "metadata": {},
   "outputs": [],
   "source": [
    "#--------------------------NODOS INICIALES DE LAS CALLES---------------------------------------#\n",
    "nodo1_calle =[]\n",
    "for x in range(0,len(ruta)-1):\n",
    "    nodo1_calle.append(ruta[x])\n",
    "len(nodo1_calle)"
   ]
  },
  {
   "cell_type": "code",
   "execution_count": null,
   "id": "outstanding-conviction",
   "metadata": {},
   "outputs": [],
   "source": [
    "#--------------------------NODOS FINALES DE LAS CALLES---------------------------------------#\n",
    "nodo2_calle =[]\n",
    "for x in range(1,len(ruta)):\n",
    "    nodo2_calle.append(ruta[x])\n",
    "len(nodo2_calle)"
   ]
  },
  {
   "cell_type": "code",
   "execution_count": null,
   "id": "improving-freeware",
   "metadata": {},
   "outputs": [],
   "source": [
    "#--------------------------COORDENADAS TOTALES EN UNA LISTA---------------------------------------#\n",
    "lista_coords_nodos =[]\n",
    "for x in range(0,len(ruta)):\n",
    "    lista_coords_nodos.append(mapa_nodos.nodes[ruta[x]]['y'])\n",
    "    lista_coords_nodos.append(mapa_nodos.nodes[ruta[x]]['x'])\n",
    "len(lista_coords_nodos)"
   ]
  },
  {
   "cell_type": "code",
   "execution_count": null,
   "id": "offshore-founder",
   "metadata": {},
   "outputs": [],
   "source": [
    "#--------------------------COORDENADAS FINALES DE LA RUTA---------------------------------------#\n",
    "coords_nodos = []\n",
    "for i in range(0, len(lista_coords_nodos), 2):\n",
    "    coords_nodos.append(lista_coords_nodos[i:i+2])\n",
    "len(coords_nodos)"
   ]
  },
  {
   "cell_type": "code",
   "execution_count": null,
   "id": "impossible-template",
   "metadata": {},
   "outputs": [],
   "source": [
    "#--------------------------COORDENADAS INICIALES DE LAS CALLES---------------------------------------#\n",
    "coords1_calle =[]\n",
    "for x in range(0,len(ruta)-1): #Elimino la ultima coordenada para tener longitud 30\n",
    "    coords1_calle.append(coords_nodos[x])\n",
    "len(coords1_calle) "
   ]
  },
  {
   "cell_type": "code",
   "execution_count": null,
   "id": "opened-minority",
   "metadata": {},
   "outputs": [],
   "source": [
    "#-------------------------COORDENADAS FINALES DE LAS CALLES--------------------------------------#\n",
    "coords2_calle =[]\n",
    "for x in range(1,len(ruta)):\n",
    "    coords2_calle.append(coords_nodos[x])\n",
    "len(coords2_calle)"
   ]
  },
  {
   "cell_type": "code",
   "execution_count": null,
   "id": "bored-still",
   "metadata": {},
   "outputs": [],
   "source": [
    "#----------------------------TRAZADO DE LA RUTA-------------------------------------------#\n",
    "caminos.plot(ax=ax, linewidth=1, edgecolor='dimgray') #Líneas\n",
    "fig2, ax = ox.plot_graph_route(mapa_nodos, ruta)"
   ]
  },
  {
   "cell_type": "code",
   "execution_count": null,
   "id": "processed-yield",
   "metadata": {
    "scrolled": true
   },
   "outputs": [],
   "source": [
    "#-------------------------INFORMACIÓN POR NODO DE LA RUTA----------------------------------------#\n",
    "ruta_info=ox.utils_graph.get_route_edge_attributes(mapa_nodos, ruta, attribute=None, minimize_key='length', retrieve_default=None)\n",
    "ruta_info"
   ]
  },
  {
   "cell_type": "code",
   "execution_count": null,
   "id": "specified-disclaimer",
   "metadata": {},
   "outputs": [],
   "source": [
    "#----------------------------APROXIMACIÓN DE LOS SEGUNDOS-------------------------------------------#\n",
    "time_aprox=[]\n",
    "for x in range(0,len(ruta_info)):\n",
    "    time_aprox.append(round(ruta_info[x]['travel_time']))\n",
    "time_aprox"
   ]
  },
  {
   "cell_type": "code",
   "execution_count": null,
   "id": "hundred-banks",
   "metadata": {},
   "outputs": [],
   "source": [
    "#----------------------------VELOCIDAD POR CALLE EN KPH-------------------------------------------#\n",
    "calles_speed =[]\n",
    "for x in range(0,len(ruta_info)):\n",
    "    calles_speed.append(ruta_info[x]['speed_kph'])\n",
    "len(calles_speed)"
   ]
  },
  {
   "cell_type": "code",
   "execution_count": null,
   "id": "working-network",
   "metadata": {},
   "outputs": [],
   "source": [
    "#---------HORA DE PASADA POR NODO-----------#\n",
    "horas_intermedias = hora_salida\n",
    "hora_llegada=hora_salida\n",
    "horas_trayecto = []\n",
    "for x in range(0,len(ruta_info)):\n",
    "   horas_trayecto.append(horas_intermedias + timedelta(seconds=time_aprox[x]))\n",
    "   horas_intermedias += timedelta(seconds=time_aprox[x])\n",
    "horas_trayecto\n",
    "for x in range(0,len(ruta_info)):\n",
    "    hora_llegada+=timedelta(seconds=time_aprox[x])"
   ]
  },
  {
   "cell_type": "code",
   "execution_count": null,
   "id": "revolutionary-evolution",
   "metadata": {},
   "outputs": [],
   "source": [
    "naive_times = pd.date_range(start=hora_salida, end=hora_llegada, freq='1S')\n",
    "times = naive_times.tz_localize(timezone)\n",
    "solar_pos = pvlib.solarposition.get_solarposition(times, coord_origen[0], coord_origen[1])"
   ]
  },
  {
   "cell_type": "code",
   "execution_count": null,
   "id": "equivalent-celebrity",
   "metadata": {},
   "outputs": [],
   "source": [
    "aoi = pvlib.irradiance.aoi(superf['surface_tilt'], superf['surface_azimuth'],\n",
    "                               solar_pos['apparent_zenith'], solar_pos['azimuth'])"
   ]
  },
  {
   "cell_type": "code",
   "execution_count": null,
   "id": "industrial-faculty",
   "metadata": {},
   "outputs": [],
   "source": [
    "dni_extra = pvlib.irradiance.get_extra_radiation(times)\n",
    "airmass_rel = pvlib.atmosphere.get_relative_airmass(solar_pos['apparent_zenith'])\n",
    "pressure = pvlib.atmosphere.alt2pres(altitude)\n",
    "airmass_abs = pvlib.atmosphere.get_absolute_airmass(airmass_rel, pressure)\n",
    "turbidez = pvlib.clearsky.lookup_linke_turbidity(times, coord_origen[0], coord_origen[1])\n",
    "val_sol = pvlib.clearsky.ineichen(solar_pos['apparent_zenith'], airmass_abs, turbidez,\n",
    "                                 dni_extra=dni_extra, altitude=altitude)\n",
    "dni_extra"
   ]
  },
  {
   "cell_type": "code",
   "execution_count": null,
   "id": "compressed-ceramic",
   "metadata": {},
   "outputs": [],
   "source": [
    "irrad=pvlib.irradiance.get_total_irradiance(superf['surface_tilt'],superf['surface_azimuth'], \n",
    "    solar_pos['zenith'] , solar_pos['azimuth'], val_sol['dni'], val_sol['ghi'] , \n",
    "    val_sol['dhi'], dni_extra=dni_extra, airmass=airmass_abs, albedo=0.10,\n",
    "    surface_type=None, model='isotropic', model_perez='allsitescomposite1990')\n",
    "irrad"
   ]
  },
  {
   "cell_type": "code",
   "execution_count": null,
   "id": "chief-triangle",
   "metadata": {},
   "outputs": [],
   "source": [
    "filtro_irrad=[]\n",
    "for x in range(0,len(ruta_info)):\n",
    "  filtro_irrad.append(irrad.loc[horas_trayecto[x]])"
   ]
  },
  {
   "cell_type": "code",
   "execution_count": null,
   "id": "strong-tuner",
   "metadata": {},
   "outputs": [],
   "source": [
    "poa_global_filtro=[] #Filtramos la parte de poa_global\n",
    "for x in range(0,len(ruta)-1):\n",
    "    poa_global_filtro.append(filtro_irrad[x]['poa_global'])\n",
    "df_global=pd.DataFrame(poa_global_filtro)\n",
    "poa_global_lista=df_global.iloc[:, 0] # Primera columna\n",
    "poa_global=[] #Lista de datos para unir al datafram informativo\n",
    "for x in range(0,len(ruta)-1): \n",
    "    poa_global.append(poa_global_lista[x])\n",
    "print(poa_global)"
   ]
  },
  {
   "cell_type": "code",
   "execution_count": null,
   "id": "verbal-participation",
   "metadata": {},
   "outputs": [],
   "source": [
    "#----------------------------------------DATAFRAME-------------------------------------------#\n",
    "df = pd.DataFrame(nodo1_calle,columns=['Nodo Origen'])\n",
    "df['Origen'] = coords1_calle\n",
    "df['Nodo Destino'] = nodo2_calle\n",
    "df['Destino'] = coords2_calle\n",
    "df['km/h'] = calles_speed\n",
    "df['Tiempo'] = time_aprox\n",
    "df['Ruta'] = horas_trayecto\n",
    "df['poa'] = poa_global"
   ]
  },
  {
   "cell_type": "code",
   "execution_count": null,
   "id": "hazardous-mixer",
   "metadata": {
    "scrolled": true
   },
   "outputs": [],
   "source": [
    "print ('Fecha y hora de inicio de la ruta', hora_salida)\n",
    "print('Fecha y hora de fin de la ruta', hora_llegada)\n",
    "df.iloc[0:len(ruta)] # Primeras cinco filas\n",
    "# pd.set_option(\"max_columns\", None) #Showing only two columns\n",
    "# pd.set_option(\"max_rows\", None)"
   ]
  }
 ],
 "metadata": {
  "kernelspec": {
   "display_name": "Python 3",
   "language": "python",
   "name": "python3"
  },
  "language_info": {
   "codemirror_mode": {
    "name": "ipython",
    "version": 3
   },
   "file_extension": ".py",
   "mimetype": "text/x-python",
   "name": "python",
   "nbconvert_exporter": "python",
   "pygments_lexer": "ipython3",
   "version": "3.9.2"
  }
 },
 "nbformat": 4,
 "nbformat_minor": 5
}
