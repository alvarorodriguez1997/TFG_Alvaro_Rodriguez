{
 "cells": [
  {
   "cell_type": "code",
   "execution_count": null,
   "id": "bibliographic-celebration",
   "metadata": {},
   "outputs": [],
   "source": [
    "import osmnx as ox\n",
    "import pandas as pd"
   ]
  },
  {
   "cell_type": "code",
   "execution_count": null,
   "id": "processed-twelve",
   "metadata": {},
   "outputs": [],
   "source": [
    "coord_origen = (40.405551, -3.700684 ) #ETSIDI\n",
    "coord_destino = (40.408800, -3.701271 )#Plaza Lavapiés\n",
    "mapa_nodos = ox.graph_from_point (coord_origen, dist=7000, dist_type ='bbox' , network_type = 'drive')\n",
    "fig, ax = ox.plot_graph(mapa_nodos) \n",
    "ox.speed.add_edge_speeds(mapa_nodos , hwy_speeds = 50 , fallback = None , precision = 1 )\n",
    "ox.speed.add_edge_travel_times( mapa_nodos , precision = 1 )"
   ]
  },
  {
   "cell_type": "code",
   "execution_count": null,
   "id": "arbitrary-movie",
   "metadata": {},
   "outputs": [],
   "source": [
    "#---------------------NODOS ORIGEN Y DESTINO SEGÚN COORDENADAS----------------------------------#\n",
    "nodo_origen = ox.get_nearest_node(mapa_nodos, coord_origen, method='haversine', return_dist=False)\n",
    "nodo_destino = ox.get_nearest_node(mapa_nodos, coord_destino, method='haversine', return_dist=False)\n",
    "nodo_origen,nodo_destino"
   ]
  },
  {
   "cell_type": "code",
   "execution_count": null,
   "id": "completed-regulation",
   "metadata": {},
   "outputs": [],
   "source": [
    "#GRAFICAR A GEODATAFRAME\n",
    "nodos, caminos = ox.graph_to_gdfs(mapa_nodos) #Función de OSMnx que convierte el multidigraph en geodataframes de NODOS y LÍNEAS\n",
    "pd.set_option(\"max_columns\", None) #Showing only two columns\n",
    "pd.set_option(\"max_rows\", None)\n",
    "nodos.head() #GeoDataFrames de los nodos"
   ]
  },
  {
   "cell_type": "code",
   "execution_count": null,
   "id": "close-johns",
   "metadata": {},
   "outputs": [],
   "source": [
    "caminos.head()"
   ]
  },
  {
   "cell_type": "code",
   "execution_count": null,
   "id": "dangerous-oriental",
   "metadata": {},
   "outputs": [],
   "source": [
    "#--------------------------NODOS DE LA RUTA---------------------------------------#\n",
    "ruta = ox.shortest_path(G=mapa_nodos, orig=nodo_origen, dest=nodo_destino, weight='length')\n",
    "print(ruta) #Obtenemos la lista de nodos que se encuentran en el camino más corto.\n",
    "len(ruta)"
   ]
  },
  {
   "cell_type": "code",
   "execution_count": null,
   "id": "revised-flashing",
   "metadata": {},
   "outputs": [],
   "source": [
    "#--------------------------INFORMACIÓN CALLES DE LA RUTA ---------------------------------------#\n",
    "lista_caminos =[]\n",
    "for x in range(1,len(ruta)):\n",
    "    lista_caminos.append(mapa_nodos[ruta[x-1]][ruta[x]])\n",
    "len(lista_caminos)"
   ]
  },
  {
   "cell_type": "code",
   "execution_count": null,
   "id": "about-gilbert",
   "metadata": {},
   "outputs": [],
   "source": [
    "#--------------------------NOMBRE DE LAS CALLES---------------------------------------#\n",
    "nombre_calles =[]\n",
    "for x in range(0,len(lista_caminos)):\n",
    "    nombre_calles.append(lista_caminos[x][0]['name'])\n",
    "len(nombre_calles)"
   ]
  },
  {
   "cell_type": "code",
   "execution_count": null,
   "id": "interpreted-preservation",
   "metadata": {},
   "outputs": [],
   "source": [
    "#--------------------------NODOS INICIALES DE LAS CALLES---------------------------------------#\n",
    "nodo1_calle =[]\n",
    "for x in range(0,len(ruta)-1):\n",
    "    nodo1_calle.append(ruta[x])\n",
    "len(nodo1_calle)"
   ]
  },
  {
   "cell_type": "code",
   "execution_count": null,
   "id": "subsequent-thing",
   "metadata": {},
   "outputs": [],
   "source": [
    "#--------------------------NODOS FINALES DE LAS CALLES---------------------------------------#\n",
    "nodo2_calle =[]\n",
    "for x in range(1,len(ruta)):\n",
    "    nodo2_calle.append(ruta[x])\n",
    "len(nodo2_calle)\n"
   ]
  },
  {
   "cell_type": "code",
   "execution_count": null,
   "id": "valid-workshop",
   "metadata": {},
   "outputs": [],
   "source": [
    "#--------------------------COORDENADAS TOTALES EN UNA LISTA---------------------------------------#\n",
    "lista_coords_nodos =[]\n",
    "for x in range(0,len(ruta)):\n",
    "    lista_coords_nodos.append(mapa_nodos.nodes[ruta[x]]['y'])\n",
    "    lista_coords_nodos.append(mapa_nodos.nodes[ruta[x]]['x'])\n",
    "len(lista_coords_nodos)"
   ]
  },
  {
   "cell_type": "code",
   "execution_count": null,
   "id": "objective-omaha",
   "metadata": {},
   "outputs": [],
   "source": [
    "#--------------------------COORDENADAS FINALES DE LA RUTA---------------------------------------#\n",
    "coords_nodos = []\n",
    "for i in range(0, len(lista_coords_nodos), 2):\n",
    "    coords_nodos.append(lista_coords_nodos[i:i+2])\n",
    "len(coords_nodos)"
   ]
  },
  {
   "cell_type": "code",
   "execution_count": null,
   "id": "honey-cholesterol",
   "metadata": {},
   "outputs": [],
   "source": [
    "#--------------------------COORDENADAS INICIALES DE LAS CALLES---------------------------------------#\n",
    "coords1_calle =[]\n",
    "for x in range(0,len(ruta)-1): #Elimino la ultima coordenada para tener longitud 30\n",
    "    coords1_calle.append(coords_nodos[x])\n",
    "len(coords1_calle) "
   ]
  },
  {
   "cell_type": "code",
   "execution_count": null,
   "id": "norwegian-token",
   "metadata": {},
   "outputs": [],
   "source": [
    "#-------------------------COORDENADAS FINALES DE LAS CALLES--------------------------------------#\n",
    "coords2_calle =[]\n",
    "for x in range(1,len(ruta)):\n",
    "    coords2_calle.append(coords_nodos[x])\n",
    "len(coords2_calle)"
   ]
  },
  {
   "cell_type": "code",
   "execution_count": null,
   "id": "secret-weight",
   "metadata": {},
   "outputs": [],
   "source": [
    "#----------------------------TRAZADO DE LA RUTA-------------------------------------------#\n",
    "caminos.plot(ax=ax, linewidth=1, edgecolor='dimgray') #Líneas\n",
    "fig2, ax = ox.plot_graph_route(mapa_nodos, ruta)"
   ]
  },
  {
   "cell_type": "code",
   "execution_count": null,
   "id": "contained-opposition",
   "metadata": {},
   "outputs": [],
   "source": [
    "#-------------------------INFORMACIÓN POR NODO DE LA RUTA----------------------------------------#\n",
    "ruta_info=ox.utils_graph.get_route_edge_attributes(mapa_nodos, ruta, attribute=None, minimize_key='length', retrieve_default=None)\n",
    "ruta_info"
   ]
  },
  {
   "cell_type": "code",
   "execution_count": null,
   "id": "natural-loading",
   "metadata": {},
   "outputs": [],
   "source": [
    "#----------------------------VELOCIDAD POR CALLE EN KPH-------------------------------------------#\n",
    "calles_speed =[]\n",
    "for x in range(0,len(ruta_info)):\n",
    "    calles_speed.append(ruta_info[x]['speed_kph'])\n",
    "len(calles_speed)"
   ]
  },
  {
   "cell_type": "code",
   "execution_count": null,
   "id": "wooden-bullet",
   "metadata": {},
   "outputs": [],
   "source": [
    "#----------------------------TIEMPO POR CALLE EN SEGS-------------------------------------------#\n",
    "calles_tiempo =[]\n",
    "for x in range(0,len(ruta_info)):\n",
    "   calles_tiempo.append(ruta_info[x]['travel_time'])\n",
    "len(calles_tiempo)"
   ]
  },
  {
   "cell_type": "code",
   "execution_count": null,
   "id": "broadband-starter",
   "metadata": {},
   "outputs": [],
   "source": [
    "#----------------------------HORAS INTERMEDIAS DE LA RUTA-------------------------------------------#\n",
    "from datetime import datetime, date, time, timedelta\n",
    "from datetime import date\n",
    "from datetime import datetime\n",
    "hora_salida = datetime(2021, 2, 28, 10, 15, 00) #y, m, d, h, min, s\n",
    "horas_intermedias = hora_salida\n",
    "horas_trayecto = []\n",
    "for x in range(0,len(ruta_info)):\n",
    "   horas_trayecto.append(horas_intermedias + timedelta(seconds=ruta_info[x]['travel_time']))\n",
    "   horas_intermedias += timedelta(seconds=ruta_info[x]['travel_time'])"
   ]
  },
  {
   "cell_type": "code",
   "execution_count": null,
   "id": "appreciated-turtle",
   "metadata": {},
   "outputs": [],
   "source": [
    "#----------------------------------------DATAFRAME-------------------------------------------#\n",
    "df = pd.DataFrame(nombre_calles,columns=['Dirección'])\n",
    "df['km/h'] = calles_speed\n",
    "df['Tiempo'] = calles_tiempo\n",
    "df['Nodo Origen'] = nodo1_calle\n",
    "df['Origen'] = coords1_calle\n",
    "df['NodDestino'] = nodo2_calle\n",
    "df['Destino'] = coords2_calle\n",
    "df['Ruta'] = horas_trayecto\n",
    "\n"
   ]
  },
  {
   "cell_type": "code",
   "execution_count": null,
   "id": "painful-print",
   "metadata": {},
   "outputs": [],
   "source": [
    "print ('Fecha y hora de inicio de la ruta', hora_salida)\n",
    "df.iloc[0:len(ruta)] # Primeras cinco filas"
   ]
  }
 ],
 "metadata": {
  "kernelspec": {
   "display_name": "Python 3",
   "language": "python",
   "name": "python3"
  },
  "language_info": {
   "codemirror_mode": {
    "name": "ipython",
    "version": 3
   },
   "file_extension": ".py",
   "mimetype": "text/x-python",
   "name": "python",
   "nbconvert_exporter": "python",
   "pygments_lexer": "ipython3",
   "version": "3.9.2"
  }
 },
 "nbformat": 4,
 "nbformat_minor": 5
}
