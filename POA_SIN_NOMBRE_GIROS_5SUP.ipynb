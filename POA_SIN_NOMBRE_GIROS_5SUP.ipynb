{
 "cells": [
  {
   "cell_type": "code",
   "execution_count": null,
   "id": "median-dispatch",
   "metadata": {},
   "outputs": [],
   "source": [
    "import osmnx as ox\n",
    "import pandas as pd\n",
    "import pvlib \n",
    "from datetime import datetime, date, time, timedelta "
   ]
  },
  {
   "cell_type": "code",
   "execution_count": null,
   "id": "processed-request",
   "metadata": {},
   "outputs": [],
   "source": [
    "superf_techo = {'surface_tilt': 0} \n",
    "superf_derecha = {'surface_tilt': 90} \n",
    "superf_izquierda = {'surface_tilt': 90} \n",
    "superf_capo = {'surface_tilt': 15} \n",
    "superf_maletero = {'surface_tilt': 45} \n",
    "coord_origen = (40.405536, -3.700684 ) #ETSIDI\n",
    "coord_destino = (40.462644, -3.763584 ) #CNI\n",
    "timezone = 'Etc/GMT+2'\n",
    "altitude=667\n",
    "hora_salida = datetime(2020, 7, 28, 14, 30, 0) #y, m, d, h, min, s "
   ]
  },
  {
   "cell_type": "code",
   "execution_count": null,
   "id": "under-characteristic",
   "metadata": {},
   "outputs": [],
   "source": [
    "superficies_coche =[]\n",
    "superficies_coche.append(superf_techo)\n",
    "superficies_coche.append(superf_derecha)\n",
    "superficies_coche.append(superf_izquierda)\n",
    "superficies_coche.append(superf_capo)\n",
    "superficies_coche.append(superf_maletero)\n",
    "len(superficies_coche)"
   ]
  },
  {
   "cell_type": "code",
   "execution_count": null,
   "id": "beginning-heaven",
   "metadata": {},
   "outputs": [],
   "source": [
    "mapa_nodos = ox.graph_from_point (coord_origen, dist=7000, dist_type ='bbox' , network_type = 'drive')\n",
    "fig, ax = ox.plot_graph(mapa_nodos) \n",
    "ox.speed.add_edge_speeds(mapa_nodos , hwy_speeds = 30 , fallback = 30 , precision = 0 )\n",
    "ox.speed.add_edge_travel_times( mapa_nodos , precision = 0 )"
   ]
  },
  {
   "cell_type": "code",
   "execution_count": null,
   "id": "thrown-bumper",
   "metadata": {},
   "outputs": [],
   "source": [
    "# #GRAFICAR A GEODATAFRAME\n",
    "nodos, caminos = ox.graph_to_gdfs(mapa_nodos) #Función de OSMnx que convierte el multidigraph en geodataframes de NODOS y LÍNEAS\n",
    "# pd.set_option(\"max_columns\", None) #Showing only two columns\n",
    "# pd.set_option(\"max_rows\", None)"
   ]
  },
  {
   "cell_type": "code",
   "execution_count": null,
   "id": "intensive-paintball",
   "metadata": {},
   "outputs": [],
   "source": [
    "#------------------SECCIÓN INFORMATIVA-----------------------------#\n",
    "nodos.head() #GeoDataFrames de los nodos\n",
    "caminos.head()"
   ]
  },
  {
   "cell_type": "code",
   "execution_count": null,
   "id": "earned-verification",
   "metadata": {},
   "outputs": [],
   "source": [
    "#---------------------NODOS ORIGEN Y DESTINO SEGÚN COORDENADAS----------------------------------#\n",
    "nodo_origen = ox.get_nearest_node(mapa_nodos, coord_origen, method='haversine', return_dist=False)\n",
    "nodo_destino = ox.get_nearest_node(mapa_nodos, coord_destino, method='haversine', return_dist=False)\n",
    "nodo_origen,nodo_destino"
   ]
  },
  {
   "cell_type": "code",
   "execution_count": null,
   "id": "charming-group",
   "metadata": {},
   "outputs": [],
   "source": [
    "#--------------------------NODOS DE LA RUTA---------------------------------------#\n",
    "ruta = ox.shortest_path(G=mapa_nodos, orig=nodo_origen, dest=nodo_destino, weight='length')\n",
    "print(ruta) #Obtenemos la lista de nodos que se encuentran en el camino más corto.\n",
    "len(ruta)"
   ]
  },
  {
   "cell_type": "code",
   "execution_count": null,
   "id": "premier-shelter",
   "metadata": {},
   "outputs": [],
   "source": [
    "#--------------------------INFORMACIÓN CALLES DE LA RUTA ---------------------------------------#\n",
    "lista_caminos =[]\n",
    "for x in range(1,len(ruta)):\n",
    "    lista_caminos.append(mapa_nodos[ruta[x-1]][ruta[x]])\n",
    "len(lista_caminos)"
   ]
  },
  {
   "cell_type": "code",
   "execution_count": null,
   "id": "dense-stuart",
   "metadata": {},
   "outputs": [],
   "source": [
    "# #--------------------------NOMBRE DE LAS CALLES---------------------------------------#\n",
    "# nombre_calles =[]\n",
    "# for x in range(0,len(lista_caminos)):\n",
    "#     nombre_calles.append(lista_caminos[x][0]['name'])\n",
    "# len(nombre_calles)"
   ]
  },
  {
   "cell_type": "code",
   "execution_count": null,
   "id": "instructional-climate",
   "metadata": {},
   "outputs": [],
   "source": [
    "#--------------------------NODOS INICIALES DE LAS CALLES---------------------------------------#\n",
    "nodo1_calle =[]\n",
    "for x in range(0,len(ruta)-1):\n",
    "    nodo1_calle.append(ruta[x])\n",
    "len(nodo1_calle)"
   ]
  },
  {
   "cell_type": "code",
   "execution_count": null,
   "id": "outstanding-conviction",
   "metadata": {},
   "outputs": [],
   "source": [
    "#--------------------------NODOS FINALES DE LAS CALLES---------------------------------------#\n",
    "nodo2_calle =[]\n",
    "for x in range(1,len(ruta)):\n",
    "    nodo2_calle.append(ruta[x])\n",
    "len(nodo2_calle)"
   ]
  },
  {
   "cell_type": "code",
   "execution_count": null,
   "id": "improving-freeware",
   "metadata": {},
   "outputs": [],
   "source": [
    "#--------------------------COORDENADAS TOTALES EN UNA LISTA---------------------------------------#\n",
    "lista_coords_nodos =[]\n",
    "for x in range(0,len(ruta)):\n",
    "    lista_coords_nodos.append(mapa_nodos.nodes[ruta[x]]['y'])\n",
    "    lista_coords_nodos.append(mapa_nodos.nodes[ruta[x]]['x'])\n",
    "len(lista_coords_nodos)"
   ]
  },
  {
   "cell_type": "code",
   "execution_count": null,
   "id": "offshore-founder",
   "metadata": {},
   "outputs": [],
   "source": [
    "#--------------------------COORDENADAS FINALES DE LA RUTA---------------------------------------#\n",
    "coords_nodos = []\n",
    "for i in range(0, len(lista_coords_nodos), 2):\n",
    "    coords_nodos.append(lista_coords_nodos[i:i+2])\n",
    "len(coords_nodos)"
   ]
  },
  {
   "cell_type": "code",
   "execution_count": null,
   "id": "impossible-template",
   "metadata": {},
   "outputs": [],
   "source": [
    "#--------------------------COORDENADAS INICIALES DE LAS CALLES---------------------------------------#\n",
    "coords1_calle =[]\n",
    "for x in range(0,len(ruta)-1): #Elimino la ultima coordenada para tener longitud 30\n",
    "    coords1_calle.append(coords_nodos[x])\n",
    "len(coords1_calle) "
   ]
  },
  {
   "cell_type": "code",
   "execution_count": null,
   "id": "opened-minority",
   "metadata": {},
   "outputs": [],
   "source": [
    "#-------------------------COORDENADAS FINALES DE LAS CALLES--------------------------------------#\n",
    "coords2_calle =[]\n",
    "for x in range(1,len(ruta)):\n",
    "    coords2_calle.append(coords_nodos[x])\n",
    "len(coords2_calle)"
   ]
  },
  {
   "cell_type": "code",
   "execution_count": null,
   "id": "bored-still",
   "metadata": {},
   "outputs": [],
   "source": [
    "#----------------------------TRAZADO DE LA RUTA-------------------------------------------#\n",
    "caminos.plot(ax=ax, linewidth=1, edgecolor='dimgray') #Líneas\n",
    "fig2, ax = ox.plot_graph_route(mapa_nodos, ruta)"
   ]
  },
  {
   "cell_type": "code",
   "execution_count": null,
   "id": "processed-yield",
   "metadata": {
    "scrolled": true
   },
   "outputs": [],
   "source": [
    "#-------------------------INFORMACIÓN POR NODO DE LA RUTA----------------------------------------#\n",
    "ruta_info=ox.utils_graph.get_route_edge_attributes(mapa_nodos, ruta, attribute=None, minimize_key='length', retrieve_default=None)\n",
    "ruta_info"
   ]
  },
  {
   "cell_type": "code",
   "execution_count": null,
   "id": "specified-disclaimer",
   "metadata": {},
   "outputs": [],
   "source": [
    "#----------------------------APROXIMACIÓN DE LOS SEGUNDOS A ENTEROS-------------------------------------------#\n",
    "time_aprox=[]\n",
    "for x in range(0,len(ruta_info)):\n",
    "    time_aprox.append(round(ruta_info[x]['travel_time']))"
   ]
  },
  {
   "cell_type": "code",
   "execution_count": null,
   "id": "hundred-banks",
   "metadata": {},
   "outputs": [],
   "source": [
    "#----------------------------VELOCIDAD POR CALLE EN KPH-------------------------------------------#\n",
    "calles_speed =[]\n",
    "for x in range(0,len(ruta_info)):\n",
    "    calles_speed.append(ruta_info[x]['speed_kph'])\n",
    "len(calles_speed)"
   ]
  },
  {
   "cell_type": "code",
   "execution_count": null,
   "id": "working-network",
   "metadata": {},
   "outputs": [],
   "source": [
    "#---------HORA DE PASADA POR NODO-----------#\n",
    "horas_intermedias = hora_salida\n",
    "hora_llegada=hora_salida\n",
    "horas_trayecto = []\n",
    "for x in range(0,len(ruta_info)):\n",
    "   horas_trayecto.append(horas_intermedias + timedelta(seconds=time_aprox[x]))\n",
    "   horas_intermedias += timedelta(seconds=time_aprox[x])\n",
    "\n",
    "for x in range(0,len(ruta_info)):\n",
    "    hora_llegada+=timedelta(seconds=time_aprox[x])\n",
    "len(horas_trayecto)"
   ]
  },
  {
   "cell_type": "code",
   "execution_count": null,
   "id": "automated-memory",
   "metadata": {},
   "outputs": [],
   "source": [
    "coords_list=[]\n",
    "for x in range(0,len(coords_nodos)):\n",
    "    coords_list.append(tuple(coords_nodos[x]))\n",
    "len(coords_list)"
   ]
  },
  {
   "cell_type": "code",
   "execution_count": null,
   "id": "lightweight-south",
   "metadata": {},
   "outputs": [],
   "source": [
    "#-------------FECHAS ADAPTADAS PARA EL ANÁLISIS-----------#\n",
    "datetimes=[]\n",
    "for x in range(1,len(horas_trayecto)):\n",
    "    datetimes.append(pd.date_range(start=horas_trayecto[x-1], end=horas_trayecto[x]- timedelta(seconds=1), freq='1S'))\n",
    "len(datetimes)"
   ]
  },
  {
   "cell_type": "code",
   "execution_count": null,
   "id": "incomplete-leadership",
   "metadata": {
    "scrolled": true
   },
   "outputs": [],
   "source": [
    "solar_pos=[]\n",
    "dni_extra=[]\n",
    "airmass_rel =[]\n",
    "pressure = pvlib.atmosphere.alt2pres(altitude)\n",
    "airmass_abs = []\n",
    "turbidez=[]\n",
    "val_sol=[]\n",
    "for x in range(1,len(horas_trayecto)):\n",
    "    naive_times = pd.date_range(start=horas_trayecto[x-1], end=horas_trayecto[x]- timedelta(seconds=1), freq='1S')\n",
    "    times = naive_times.tz_localize(timezone)\n",
    "    solar_pos.append(pvlib.solarposition.get_solarposition(times, coords_list[x-1][0], coords_list[x-1][1]))\n",
    "    dni_extra.append(pvlib.irradiance.get_extra_radiation(times))\n",
    "    turbidez.append(pvlib.clearsky.lookup_linke_turbidity(times, coords_list[x-1][0], coords_list[x-1][1]))\n",
    "    \n",
    "for x in range(1,len(horas_trayecto)):\n",
    "    airmass_rel.append(pvlib.atmosphere.get_relative_airmass(solar_pos[x-1]['apparent_zenith']))\n",
    "\n",
    "for x in range(1,len(horas_trayecto)):\n",
    "    airmass_abs.append(pvlib.atmosphere.get_absolute_airmass(airmass_rel[x-1], pressure))\n",
    "\n",
    "for x in range(1,len(horas_trayecto)):\n",
    "    val_sol.append(pvlib.clearsky.ineichen(solar_pos[x-1]['apparent_zenith'], airmass_abs[x-1], turbidez[x-1],\n",
    "                                 dni_extra=dni_extra[x-1], altitude=altitude))\n",
    "\n",
    "len(val_sol)"
   ]
  },
  {
   "cell_type": "code",
   "execution_count": null,
   "id": "later-forest",
   "metadata": {},
   "outputs": [],
   "source": [
    "#-------ACIMUT SEGÚN LOS GIROS DEL COCHE------#\n",
    "import numpy as np\n",
    "p00 = [0, 0]\n",
    "p0 = (0, 1)\n",
    "vector_norte = np.array(p0) - np.array(p00)#FIJA\n",
    "cambios_direccion=[]\n",
    "angulo=[]\n",
    "for x in range(1,len(coords_list)):\n",
    "    cambios_direccion.append(np.array(coords_list[x]) - np.array(coords_list[x-1]))\n",
    "\n",
    "for x in range(1,len(coords_list)-1):\n",
    "        angulo.append(round(np.degrees(np.math.atan2(np.linalg.det([cambios_direccion[x-1],vector_norte]),\n",
    "                                                     np.dot(cambios_direccion[x-1],vector_norte)))))\n",
    "len(angulo), len (coords_list)\n",
    "superficie_azimuth = []\n",
    "for x in range (0,len(angulo)):\n",
    "    superficie_azimuth.append(angulo[x])\n"
   ]
  },
  {
   "cell_type": "code",
   "execution_count": null,
   "id": "framed-biotechnology",
   "metadata": {},
   "outputs": [],
   "source": [
    "#------------ TECHO----------------------#\n",
    "irrad_techo=[]\n",
    "for x in range (1,len(horas_trayecto)):\n",
    "    irrad_techo.append(pvlib.irradiance.get_total_irradiance(superf_techo['surface_tilt'],superficie_azimuth[x-1], \n",
    "    solar_pos[x-1]['zenith'] , solar_pos[x-1]['azimuth'], val_sol[x-1]['dni'], val_sol[x-1]['ghi'] , \n",
    "    val_sol[x-1]['dhi'], dni_extra=dni_extra[x-1], airmass=airmass_abs[x-1], albedo=0.10,\n",
    "    surface_type=None, model='isotropic', model_perez='allsitescomposite1990'))\n",
    "len(irrad_techo)\n",
    "poa_global_filtro_techo=[] #Filtramos la parte de poa_global\n",
    "df_global_techo=[]\n",
    "poa_global_lista_techo=[]\n",
    "for x in range(1,len(horas_trayecto)):\n",
    "    poa_global_filtro_techo.append(irrad_techo[x-1]['poa_global'])\n",
    "    df_global_techo.append(pd.DataFrame(poa_global_filtro_techo[x-1]))\n",
    "    \n",
    "for x in range(1,len(horas_trayecto)):   \n",
    "    poa_global_lista_techo.append(df_global_techo[x-1].iloc[:, 0]) # Primera columna\n",
    "    \n",
    "poa_global_techo=[] \n",
    "for x in range(1,len(horas_trayecto)): \n",
    "    poa_global_techo.append(poa_global_lista_techo[x-1])\n",
    "poa_global_techo[1][0]\n",
    "len(poa_global_techo)\n"
   ]
  },
  {
   "cell_type": "code",
   "execution_count": null,
   "id": "endangered-installation",
   "metadata": {},
   "outputs": [],
   "source": [
    "#------------ PARED DERECHA----------------------#\n",
    "irrad_derecha=[]\n",
    "for x in range (1,len(horas_trayecto)):\n",
    "    irrad_derecha.append(pvlib.irradiance.get_total_irradiance(superf_derecha['surface_tilt'],superficie_azimuth[x-1]+90, \n",
    "    solar_pos[x-1]['zenith'] , solar_pos[x-1]['azimuth'], val_sol[x-1]['dni'], val_sol[x-1]['ghi'] , \n",
    "    val_sol[x-1]['dhi'], dni_extra=dni_extra[x-1], airmass=airmass_abs[x-1], albedo=0.10,\n",
    "    surface_type=None, model='isotropic', model_perez='allsitescomposite1990'))\n",
    "len(irrad_derecha)\n",
    "poa_global_filtro_derecha=[] #Filtramos la parte de poa_global\n",
    "df_global_derecha=[]\n",
    "poa_global_lista_derecha=[]\n",
    "for x in range(1,len(horas_trayecto)):\n",
    "    poa_global_filtro_derecha.append(irrad_derecha[x-1]['poa_global'])\n",
    "    df_global_derecha.append(pd.DataFrame(poa_global_filtro_derecha[x-1]))\n",
    "    \n",
    "for x in range(1,len(horas_trayecto)):   \n",
    "    poa_global_lista_derecha.append(df_global_derecha[x-1].iloc[:, 0]) # Primera columna\n",
    "    \n",
    "poa_global_derecha=[] \n",
    "for x in range(1,len(horas_trayecto)): \n",
    "    poa_global_derecha.append(poa_global_lista_derecha[x-1])\n",
    "poa_global_derecha[1][0]\n",
    "len(poa_global_derecha)"
   ]
  },
  {
   "cell_type": "code",
   "execution_count": null,
   "id": "royal-labor",
   "metadata": {},
   "outputs": [],
   "source": [
    "#------------ PARED IZQUIERDA----------------------#\n",
    "irrad_izquierda=[]\n",
    "for x in range (1,len(horas_trayecto)):\n",
    "    irrad_izquierda.append(pvlib.irradiance.get_total_irradiance(superf_izquierda['surface_tilt'],superficie_azimuth[x-1]-90, \n",
    "    solar_pos[x-1]['zenith'] , solar_pos[x-1]['azimuth'], val_sol[x-1]['dni'], val_sol[x-1]['ghi'] , \n",
    "    val_sol[x-1]['dhi'], dni_extra=dni_extra[x-1], airmass=airmass_abs[x-1], albedo=0.10,\n",
    "    surface_type=None, model='isotropic', model_perez='allsitescomposite1990'))\n",
    "len(irrad_izquierda)\n",
    "poa_global_filtro_izquierda=[] #Filtramos la parte de poa_global\n",
    "df_global_izquierda=[]\n",
    "poa_global_lista_izquierda=[]\n",
    "for x in range(1,len(horas_trayecto)):\n",
    "    poa_global_filtro_izquierda.append(irrad_izquierda[x-1]['poa_global'])\n",
    "    df_global_izquierda.append(pd.DataFrame(poa_global_filtro_izquierda[x-1]))\n",
    "    \n",
    "for x in range(1,len(horas_trayecto)):   \n",
    "    poa_global_lista_izquierda.append(df_global_izquierda[x-1].iloc[:, 0]) # Primera columna\n",
    "    \n",
    "poa_global_izquierda=[] \n",
    "for x in range(1,len(horas_trayecto)): \n",
    "    poa_global_izquierda.append(poa_global_lista_izquierda[x-1])\n",
    "poa_global_izquierda[1][0]\n",
    "len(poa_global_izquierda)"
   ]
  },
  {
   "cell_type": "code",
   "execution_count": null,
   "id": "naked-cliff",
   "metadata": {},
   "outputs": [],
   "source": [
    "#------------ CAPÓ----------------------#\n",
    "irrad_capo=[]\n",
    "for x in range (1,len(horas_trayecto)):\n",
    "    irrad_capo.append(pvlib.irradiance.get_total_irradiance(superf_capo['surface_tilt'],superficie_azimuth[x-1], \n",
    "    solar_pos[x-1]['zenith'] , solar_pos[x-1]['azimuth'], val_sol[x-1]['dni'], val_sol[x-1]['ghi'] , \n",
    "    val_sol[x-1]['dhi'], dni_extra=dni_extra[x-1], airmass=airmass_abs[x-1], albedo=0.10,\n",
    "    surface_type=None, model='isotropic', model_perez='allsitescomposite1990'))\n",
    "len(irrad_capo)\n",
    "poa_global_filtro_capo=[] #Filtramos la parte de poa_global\n",
    "df_global_capo=[]\n",
    "poa_global_lista_capo=[]\n",
    "for x in range(1,len(horas_trayecto)):\n",
    "    poa_global_filtro_capo.append(irrad_capo[x-1]['poa_global'])\n",
    "    df_global_capo.append(pd.DataFrame(poa_global_filtro_capo[x-1]))\n",
    "    \n",
    "for x in range(1,len(horas_trayecto)):   \n",
    "    poa_global_lista_capo.append(df_global_capo[x-1].iloc[:, 0]) # Primera columna\n",
    "    \n",
    "poa_global_capo=[] \n",
    "for x in range(1,len(horas_trayecto)): \n",
    "    poa_global_capo.append(poa_global_lista_capo[x-1])\n",
    "poa_global_capo[1][0]\n",
    "len(poa_global_capo)"
   ]
  },
  {
   "cell_type": "code",
   "execution_count": null,
   "id": "automotive-climb",
   "metadata": {},
   "outputs": [],
   "source": [
    "#------------ MALETERO----------------------#\n",
    "irrad_maletero=[]\n",
    "for x in range (1,len(horas_trayecto)):\n",
    "    irrad_maletero.append(pvlib.irradiance.get_total_irradiance(superf_maletero['surface_tilt'],superficie_azimuth[x-1]+180, \n",
    "    solar_pos[x-1]['zenith'] , solar_pos[x-1]['azimuth'], val_sol[x-1]['dni'], val_sol[x-1]['ghi'] , \n",
    "    val_sol[x-1]['dhi'], dni_extra=dni_extra[x-1], airmass=airmass_abs[x-1], albedo=0.10,\n",
    "    surface_type=None, model='isotropic', model_perez='allsitescomposite1990'))\n",
    "len(irrad_maletero)\n",
    "poa_global_filtro_maletero=[] #Filtramos la parte de poa_global\n",
    "df_global_maletero=[]\n",
    "poa_global_lista_maletero=[]\n",
    "for x in range(1,len(horas_trayecto)):\n",
    "    poa_global_filtro_maletero.append(irrad_maletero[x-1]['poa_global'])\n",
    "    df_global_maletero.append(pd.DataFrame(poa_global_filtro_maletero[x-1]))\n",
    "    \n",
    "for x in range(1,len(horas_trayecto)):   \n",
    "    poa_global_lista_maletero.append(df_global_maletero[x-1].iloc[:, 0]) # Primera columna\n",
    "    \n",
    "poa_global_maletero=[] \n",
    "for x in range(1,len(horas_trayecto)): \n",
    "    poa_global_maletero.append(poa_global_lista_maletero[x-1])\n",
    "poa_global_maletero[1][0]\n",
    "len(poa_global_maletero)"
   ]
  },
  {
   "cell_type": "code",
   "execution_count": null,
   "id": "robust-muscle",
   "metadata": {},
   "outputs": [],
   "source": [
    "#---------EXTENSIÓN DEL DATAFRAME-------#\n",
    "# nombre_calles_pd=[]\n",
    "calles_speed_pd=[]\n",
    "time_aprox_pd=[]\n",
    "nodo1_calle_pd=[]\n",
    "coords1_calle_pd=[]\n",
    "nodo2_calle_pd=[]\n",
    "coords2_calle_pd=[]\n",
    "horas_trayecto_pd =[]\n",
    "poa_global_techo_pd=[]\n",
    "poa_global_derecha_pd=[]\n",
    "poa_global_izquierda_pd=[]\n",
    "poa_global_capo_pd=[]\n",
    "poa_global_maletero_pd=[]\n",
    "angulo_pd=[]\n",
    "for x in range(1,len(horas_trayecto)):\n",
    "    for i in range(0,len(poa_global_techo[x-1])): \n",
    "#         nombre_calles_pd.append(nombre_calles[x-1])\n",
    "        calles_speed_pd.append(calles_speed[x-1])\n",
    "        time_aprox_pd.append(time_aprox[x])\n",
    "        nodo1_calle_pd.append(nodo1_calle[x-1])\n",
    "        coords1_calle_pd.append(coords_list[x-1])\n",
    "        nodo2_calle_pd.append(nodo2_calle[x-1])\n",
    "        coords2_calle_pd.append(coords_list[x])    \n",
    "        horas_trayecto_pd.append(datetimes[x-1][i])\n",
    "        poa_global_techo_pd.append(poa_global_techo[x-1][i])\n",
    "        poa_global_derecha_pd.append(poa_global_derecha[x-1][i])\n",
    "        poa_global_izquierda_pd.append(poa_global_izquierda[x-1][i])\n",
    "        poa_global_capo_pd.append(poa_global_capo[x-1][i])\n",
    "        poa_global_maletero_pd.append(poa_global_maletero[x-1][i])\n",
    "        angulo_pd.append(superficie_azimuth[x-1])"
   ]
  },
  {
   "cell_type": "code",
   "execution_count": null,
   "id": "verbal-participation",
   "metadata": {},
   "outputs": [],
   "source": [
    "#----------------------------------------DATAFRAME-------------------------------------------#\n",
    "df = pd.DataFrame(nodo1_calle_pd,columns=['Nodo Origen'])\n",
    "df['Origen'] = coords1_calle_pd\n",
    "df['Nodo Destino'] = nodo2_calle_pd\n",
    "df['Destino'] = coords2_calle_pd\n",
    "df['km/h'] = calles_speed_pd\n",
    "df['Tiempo'] = time_aprox_pd\n",
    "df['Ruta'] = horas_trayecto_pd\n",
    "df['Azimuth']=angulo_pd\n",
    "df['Techo'] = poa_global_techo_pd\n",
    "df['Derecha'] = poa_global_derecha_pd\n",
    "df['Izquierda'] = poa_global_izquierda_pd\n",
    "df['Capó'] = poa_global_capo_pd\n",
    "df['Maletero'] = poa_global_maletero_pd"
   ]
  },
  {
   "cell_type": "code",
   "execution_count": null,
   "id": "bizarre-sense",
   "metadata": {},
   "outputs": [],
   "source": [
    "pd.set_option(\"max_columns\", None) #Showing only two columns\n",
    "pd.set_option(\"max_rows\", None)\n",
    "df"
   ]
  }
 ],
 "metadata": {
  "kernelspec": {
   "display_name": "Python 3",
   "language": "python",
   "name": "python3"
  },
  "language_info": {
   "codemirror_mode": {
    "name": "ipython",
    "version": 3
   },
   "file_extension": ".py",
   "mimetype": "text/x-python",
   "name": "python",
   "nbconvert_exporter": "python",
   "pygments_lexer": "ipython3",
   "version": "3.9.2"
  }
 },
 "nbformat": 4,
 "nbformat_minor": 5
}
