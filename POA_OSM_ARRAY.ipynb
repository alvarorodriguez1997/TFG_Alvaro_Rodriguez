{
 "cells": [
  {
   "cell_type": "code",
   "execution_count": null,
   "id": "median-dispatch",
   "metadata": {},
   "outputs": [],
   "source": [
    "import osmnx as ox\n",
    "import pandas as pd\n",
    "import pvlib \n",
    "from pvlib import solarposition\n",
    "import datetime "
   ]
  },
  {
   "cell_type": "code",
   "execution_count": null,
   "id": "processed-request",
   "metadata": {},
   "outputs": [],
   "source": [
    "superf = {'surface_tilt': 30,'surface_azimuth': 180} #Inclinación y acimut de la superficie inclinada\n",
    "coord_origen = (40.405551, -3.700684 ) #ETSIDI\n",
    "coord_destino = (40.408800, -3.701271 )#Plaza Lavapiés\n",
    "mapa_nodos = ox.graph_from_point (coord_origen, dist=7000, dist_type ='bbox' , network_type = 'drive')\n",
    "fig, ax = ox.plot_graph(mapa_nodos) \n",
    "ox.speed.add_edge_speeds(mapa_nodos , hwy_speeds = 50 , fallback = None , precision = 1 )\n",
    "ox.speed.add_edge_travel_times( mapa_nodos , precision = 1 )"
   ]
  },
  {
   "cell_type": "code",
   "execution_count": null,
   "id": "earned-verification",
   "metadata": {},
   "outputs": [],
   "source": [
    "#---------------------NODOS ORIGEN Y DESTINO SEGÚN COORDENADAS----------------------------------#\n",
    "nodo_origen = ox.get_nearest_node(mapa_nodos, coord_origen, method='haversine', return_dist=False)\n",
    "nodo_destino = ox.get_nearest_node(mapa_nodos, coord_destino, method='haversine', return_dist=False)\n",
    "nodo_origen,nodo_destino"
   ]
  },
  {
   "cell_type": "code",
   "execution_count": null,
   "id": "thrown-bumper",
   "metadata": {},
   "outputs": [],
   "source": [
    "#GRAFICAR A GEODATAFRAME\n",
    "nodos, caminos = ox.graph_to_gdfs(mapa_nodos) #Función de OSMnx que convierte el multidigraph en geodataframes de NODOS y LÍNEAS\n",
    "pd.set_option(\"max_columns\", None) #Showing only two columns\n",
    "pd.set_option(\"max_rows\", None)\n",
    "nodos.head() #GeoDataFrames de los nodos"
   ]
  },
  {
   "cell_type": "code",
   "execution_count": null,
   "id": "intensive-paintball",
   "metadata": {},
   "outputs": [],
   "source": [
    "caminos.head()"
   ]
  },
  {
   "cell_type": "code",
   "execution_count": null,
   "id": "charming-group",
   "metadata": {},
   "outputs": [],
   "source": [
    "#--------------------------NODOS DE LA RUTA---------------------------------------#\n",
    "ruta = ox.shortest_path(G=mapa_nodos, orig=nodo_origen, dest=nodo_destino, weight='length')\n",
    "print(ruta) #Obtenemos la lista de nodos que se encuentran en el camino más corto.\n",
    "len(ruta)"
   ]
  },
  {
   "cell_type": "code",
   "execution_count": null,
   "id": "premier-shelter",
   "metadata": {},
   "outputs": [],
   "source": [
    "#--------------------------INFORMACIÓN CALLES DE LA RUTA ---------------------------------------#\n",
    "lista_caminos =[]\n",
    "for x in range(1,len(ruta)):\n",
    "    lista_caminos.append(mapa_nodos[ruta[x-1]][ruta[x]])\n",
    "len(lista_caminos)"
   ]
  },
  {
   "cell_type": "code",
   "execution_count": null,
   "id": "dense-stuart",
   "metadata": {},
   "outputs": [],
   "source": [
    "#--------------------------NOMBRE DE LAS CALLES---------------------------------------#\n",
    "nombre_calles =[]\n",
    "for x in range(0,len(lista_caminos)):\n",
    "    nombre_calles.append(lista_caminos[x][0]['name'])\n",
    "len(nombre_calles)"
   ]
  },
  {
   "cell_type": "code",
   "execution_count": null,
   "id": "instructional-climate",
   "metadata": {},
   "outputs": [],
   "source": [
    "#--------------------------NODOS INICIALES DE LAS CALLES---------------------------------------#\n",
    "nodo1_calle =[]\n",
    "for x in range(0,len(ruta)-1):\n",
    "    nodo1_calle.append(ruta[x])\n",
    "len(nodo1_calle)"
   ]
  },
  {
   "cell_type": "code",
   "execution_count": null,
   "id": "outstanding-conviction",
   "metadata": {},
   "outputs": [],
   "source": [
    "#--------------------------NODOS FINALES DE LAS CALLES---------------------------------------#\n",
    "nodo2_calle =[]\n",
    "for x in range(1,len(ruta)):\n",
    "    nodo2_calle.append(ruta[x])\n",
    "len(nodo2_calle)"
   ]
  },
  {
   "cell_type": "code",
   "execution_count": null,
   "id": "improving-freeware",
   "metadata": {},
   "outputs": [],
   "source": [
    "#--------------------------COORDENADAS TOTALES EN UNA LISTA---------------------------------------#\n",
    "lista_coords_nodos =[]\n",
    "for x in range(0,len(ruta)):\n",
    "    lista_coords_nodos.append(mapa_nodos.nodes[ruta[x]]['y'])\n",
    "    lista_coords_nodos.append(mapa_nodos.nodes[ruta[x]]['x'])\n",
    "len(lista_coords_nodos)"
   ]
  },
  {
   "cell_type": "code",
   "execution_count": null,
   "id": "offshore-founder",
   "metadata": {},
   "outputs": [],
   "source": [
    "#--------------------------COORDENADAS FINALES DE LA RUTA---------------------------------------#\n",
    "coords_nodos = []\n",
    "for i in range(0, len(lista_coords_nodos), 2):\n",
    "    coords_nodos.append(lista_coords_nodos[i:i+2])\n",
    "len(coords_nodos)"
   ]
  },
  {
   "cell_type": "code",
   "execution_count": null,
   "id": "impossible-template",
   "metadata": {},
   "outputs": [],
   "source": [
    "#--------------------------COORDENADAS INICIALES DE LAS CALLES---------------------------------------#\n",
    "coords1_calle =[]\n",
    "for x in range(0,len(ruta)-1): #Elimino la ultima coordenada para tener longitud 30\n",
    "    coords1_calle.append(coords_nodos[x])\n",
    "len(coords1_calle) "
   ]
  },
  {
   "cell_type": "code",
   "execution_count": null,
   "id": "opened-minority",
   "metadata": {},
   "outputs": [],
   "source": [
    "#-------------------------COORDENADAS FINALES DE LAS CALLES--------------------------------------#\n",
    "coords2_calle =[]\n",
    "for x in range(1,len(ruta)):\n",
    "    coords2_calle.append(coords_nodos[x])\n",
    "len(coords2_calle)"
   ]
  },
  {
   "cell_type": "code",
   "execution_count": null,
   "id": "bored-still",
   "metadata": {},
   "outputs": [],
   "source": [
    "#----------------------------TRAZADO DE LA RUTA-------------------------------------------#\n",
    "caminos.plot(ax=ax, linewidth=1, edgecolor='dimgray') #Líneas\n",
    "fig2, ax = ox.plot_graph_route(mapa_nodos, ruta)"
   ]
  },
  {
   "cell_type": "code",
   "execution_count": null,
   "id": "processed-yield",
   "metadata": {},
   "outputs": [],
   "source": [
    "#-------------------------INFORMACIÓN POR NODO DE LA RUTA----------------------------------------#\n",
    "ruta_info=ox.utils_graph.get_route_edge_attributes(mapa_nodos, ruta, attribute=None, minimize_key='length', retrieve_default=None)\n",
    "ruta_info"
   ]
  },
  {
   "cell_type": "code",
   "execution_count": null,
   "id": "hundred-banks",
   "metadata": {},
   "outputs": [],
   "source": [
    "#----------------------------VELOCIDAD POR CALLE EN KPH-------------------------------------------#\n",
    "calles_speed =[]\n",
    "for x in range(0,len(ruta_info)):\n",
    "    calles_speed.append(ruta_info[x]['speed_kph'])\n",
    "len(calles_speed)"
   ]
  },
  {
   "cell_type": "code",
   "execution_count": null,
   "id": "sacred-latter",
   "metadata": {},
   "outputs": [],
   "source": [
    "#----------------------------TIEMPO POR CALLE EN SEGS-------------------------------------------#\n",
    "calles_tiempo =[]\n",
    "for x in range(0,len(ruta_info)):\n",
    "   calles_tiempo.append(ruta_info[x]['travel_time'])\n",
    "len(calles_tiempo)"
   ]
  },
  {
   "cell_type": "code",
   "execution_count": null,
   "id": "worth-thickness",
   "metadata": {},
   "outputs": [],
   "source": [
    "#----------------------------HORAS INTERMEDIAS DE LA RUTA-------------------------------------------#\n",
    "from datetime import datetime, date, time, timedelta\n",
    "from datetime import date\n",
    "from datetime import datetime\n",
    "hora_salida = datetime(2021, 2, 28, 10, 15, 00) #y, m, d, h, min, s\n",
    "horas_intermedias = hora_salida\n",
    "horas_trayecto = []\n",
    "for x in range(0,len(ruta_info)):\n",
    "   horas_trayecto.append(horas_intermedias + timedelta(seconds=ruta_info[x]['travel_time']))\n",
    "   horas_intermedias += timedelta(seconds=ruta_info[x]['travel_time'])"
   ]
  },
  {
   "cell_type": "code",
   "execution_count": null,
   "id": "bearing-hindu",
   "metadata": {},
   "outputs": [],
   "source": [
    "list_ruta =[]\n",
    "for x in range(0,len(ruta)):\n",
    "    list_ruta.append(ruta[x])\n",
    "    \n",
    "list_ruta\n"
   ]
  },
  {
   "cell_type": "code",
   "execution_count": null,
   "id": "identified-harvey",
   "metadata": {},
   "outputs": [],
   "source": [
    "import datetime   "
   ]
  },
  {
   "cell_type": "code",
   "execution_count": null,
   "id": "unique-arabic",
   "metadata": {},
   "outputs": [],
   "source": [
    "medidas_tmy = []\n",
    "datos=[]\n",
    "datos_2016=[]\n",
    "for x in range(0,len(list_ruta)):\n",
    "    medidas_tmy.append (pvlib.iotools.get_pvgis_tmy(coords_nodos[x][0], coords_nodos[x][1], outputformat='epw', \n",
    "    url='https://re.jrc.ec.europa.eu/api/',startyear=2005, endyear=2016, timeout=30))\n",
    "    #Se añade al vector medida cada situación de cada longitud y latitud\n",
    "    datos.append(medidas_tmy[x][0][[\"ghi\",\"dni\",\"dhi\"]])\n",
    "    #Bien\n",
    "    nueva_fecha=[]\n",
    "    for i in range(len(datos[x])): \n",
    "         nueva_fecha.append(datos[x].index[i].replace(year=2016)+datetime.timedelta(minutes=30))\n",
    "    #Bien\n",
    "    datos_2016.append (datos[x].reindex(nueva_fecha))\n",
    "    datos_2016[x][\"ghi\"][:]=datos[x][\"ghi\"][:] \n",
    "    datos_2016[x][\"dni\"][:]=datos[x][\"dni\"][:] \n",
    "    datos_2016[x][\"dhi\"][:]=datos[x][\"dhi\"][:]\n",
    "# pd.set_option(\"max_columns\", None) #Showing only two columns\n",
    "# pd.set_option(\"max_rows\", None)\n",
    "# datos_buenos[2]"
   ]
  },
  {
   "cell_type": "code",
   "execution_count": null,
   "id": "seven-withdrawal",
   "metadata": {},
   "outputs": [],
   "source": [
    "from pvlib import solarposition\n",
    "solar_pos =[]\n",
    "for x in range(0,len(list_ruta)):\n",
    "    solar_pos.append (solarposition.get_solarposition(nueva_fecha, coords_nodos[x][0], coords_nodos[x][1]))\n",
    "   \n",
    "\n",
    "\n"
   ]
  },
  {
   "cell_type": "code",
   "execution_count": null,
   "id": "experimental-atmosphere",
   "metadata": {},
   "outputs": [],
   "source": [
    "poa=[]\n",
    "for x in range(0,len(list_ruta)-1):\n",
    "    poa.append (pvlib.irradiance.get_total_irradiance(superf['surface_tilt'],superf['surface_azimuth'], \n",
    "    solar_pos[x]['zenith'] , solar_pos[x]['azimuth'], datos_2016[x]['dni'], datos_2016[x]['ghi'] , \n",
    "    datos_2016 [x]['dhi'], dni_extra=None, airmass=None, albedo=0.10,\n",
    "    surface_type=None, model='isotropic', model_perez='allsitescomposite1990'))\n",
    "\n",
    "poa[0]['poa_global']"
   ]
  },
  {
   "cell_type": "code",
   "execution_count": null,
   "id": "verbal-participation",
   "metadata": {},
   "outputs": [],
   "source": [
    "#----------------------------------------DATAFRAME-------------------------------------------#\n",
    "df = pd.DataFrame(nombre_calles,columns=['Dirección'])\n",
    "df['km/h'] = calles_speed\n",
    "df['Tiempo'] = calles_tiempo\n",
    "df['Nodo Origen'] = nodo1_calle\n",
    "df['Origen'] = coords1_calle\n",
    "df['NodDestino'] = nodo2_calle\n",
    "df['Destino'] = coords2_calle\n",
    "df['Ruta'] = horas_trayecto\n",
    "df['poa'] = poa"
   ]
  },
  {
   "cell_type": "code",
   "execution_count": null,
   "id": "hazardous-mixer",
   "metadata": {
    "scrolled": true
   },
   "outputs": [],
   "source": [
    "print ('Fecha y hora de inicio de la ruta', hora_salida)\n",
    "df.iloc[0:len(ruta)] # Primeras cinco filas"
   ]
  }
 ],
 "metadata": {
  "kernelspec": {
   "display_name": "Python 3",
   "language": "python",
   "name": "python3"
  },
  "language_info": {
   "codemirror_mode": {
    "name": "ipython",
    "version": 3
   },
   "file_extension": ".py",
   "mimetype": "text/x-python",
   "name": "python",
   "nbconvert_exporter": "python",
   "pygments_lexer": "ipython3",
   "version": "3.9.2"
  }
 },
 "nbformat": 4,
 "nbformat_minor": 5
}
