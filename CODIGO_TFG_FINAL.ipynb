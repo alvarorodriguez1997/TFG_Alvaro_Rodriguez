{
 "cells": [
  {
   "cell_type": "code",
   "execution_count": null,
   "id": "seven-electricity",
   "metadata": {},
   "outputs": [],
   "source": [
    "import osmnx as ox\n",
    "import pandas as pd\n",
    "import pvlib \n",
    "from datetime import datetime, date, time, timedelta \n",
    "import utm\n",
    "import math\n",
    "\n",
    "\n",
    "superf_techo = {'surface_tilt': 0} \n",
    "superf_derecha = {'surface_tilt': 90} \n",
    "superf_izquierda = {'surface_tilt': 90} \n",
    "superf_capo = {'surface_tilt': 15} \n",
    "superf_maletero = {'surface_tilt': 45} \n",
    "coord_origen = (40.462834, -3.585214)\n",
    "coord_destino = (40.458570, -3.861030) \n",
    "timezone = 'Etc/GMT+2'\n",
    "altitude=667\n",
    "hora_salida = datetime(2020, 7, 28, 14, 30, 0) #y, m, d, h, min, s "
   ]
  },
  {
   "cell_type": "code",
   "execution_count": null,
   "id": "found-haven",
   "metadata": {},
   "outputs": [],
   "source": [
    "superficies_coche =[]\n",
    "superficies_coche.append(superf_techo)\n",
    "superficies_coche.append(superf_derecha)\n",
    "superficies_coche.append(superf_izquierda)\n",
    "superficies_coche.append(superf_capo)\n",
    "superficies_coche.append(superf_maletero)"
   ]
  },
  {
   "cell_type": "code",
   "execution_count": null,
   "id": "joint-kruger",
   "metadata": {},
   "outputs": [],
   "source": [
    "orig_dest=[]\n",
    "dist_to_utm=[]\n",
    "dist_list=[]\n",
    "dist_tuple=[]\n",
    "\n",
    "orig_dest.append(coord_origen)\n",
    "orig_dest.append(coord_destino)\n",
    "\n",
    "dist_to_utm.append(utm.from_latlon(orig_dest[0][0],orig_dest[0][1]))\n",
    "dist_to_utm.append(utm.from_latlon(orig_dest[1][0],orig_dest[1][1]))\n",
    "     \n",
    "dist_list.append(dist_to_utm[0][0])\n",
    "dist_list.append(dist_to_utm[0][1])\n",
    "dist_list.append(dist_to_utm[1][0])\n",
    "dist_list.append(dist_to_utm[1][1])\n",
    "\n",
    "for x in range(0, len(dist_list), 2):\n",
    "    dist_tuple.append(dist_list[x:x+2])\n",
    "\n",
    "distancia = math.sqrt((dist_tuple[1][0]-dist_tuple[0][0])**2+(dist_tuple[1][1]-dist_tuple[0][1])**2)"
   ]
  },
  {
   "cell_type": "code",
   "execution_count": null,
   "id": "empirical-johns",
   "metadata": {},
   "outputs": [],
   "source": [
    "mapa_nodos = ox.graph_from_point (coord_origen, dist=distancia, dist_type ='bbox' , network_type = 'drive')\n",
    "fig, ax = ox.plot_graph(mapa_nodos) \n",
    "ox.speed.add_edge_speeds(mapa_nodos , hwy_speeds = 30 , fallback = 30 , precision = 0 )\n",
    "ox.speed.add_edge_travel_times( mapa_nodos , precision = 0 )"
   ]
  },
  {
   "cell_type": "code",
   "execution_count": null,
   "id": "trained-vegetable",
   "metadata": {},
   "outputs": [],
   "source": [
    "# #GRAFICAR A GEODATAFRAME\n",
    "nodos, caminos = ox.graph_to_gdfs(mapa_nodos) #Función de OSMnx que convierte el multidigraph en geodataframes de NODOS y LÍNEAS\n",
    "# pd.set_option(\"max_columns\", None) #Showing only two columns\n",
    "# pd.set_option(\"max_rows\", None)"
   ]
  },
  {
   "cell_type": "code",
   "execution_count": null,
   "id": "scheduled-seeking",
   "metadata": {},
   "outputs": [],
   "source": [
    "#------------------SECCIÓN INFORMATIVA-----------------------------#\n",
    "nodos.head() #GeoDataFrames de los nodos\n",
    "caminos.head()"
   ]
  },
  {
   "cell_type": "code",
   "execution_count": null,
   "id": "starting-scanning",
   "metadata": {},
   "outputs": [],
   "source": [
    "#---------------------NODOS ORIGEN Y DESTINO SEGÚN COORDENADAS----------------------------------#\n",
    "nodo_origen = ox.get_nearest_node(mapa_nodos, coord_origen, method='haversine', return_dist=False)\n",
    "nodo_destino = ox.get_nearest_node(mapa_nodos, coord_destino, method='haversine', return_dist=False)"
   ]
  },
  {
   "cell_type": "code",
   "execution_count": null,
   "id": "exact-differential",
   "metadata": {},
   "outputs": [],
   "source": [
    "#--------------------------NODOS DE LA RUTA---------------------------------------#\n",
    "ruta = ox.shortest_path(G=mapa_nodos, orig=nodo_origen, dest=nodo_destino, weight='length')"
   ]
  },
  {
   "cell_type": "code",
   "execution_count": null,
   "id": "loving-median",
   "metadata": {},
   "outputs": [],
   "source": [
    "#--------------------------COORDENADAS TOTALES EN UNA LISTA---------------------------------------#\n",
    "lista_coords_nodos =[]\n",
    "for it_coords in ruta:\n",
    "    lista_coords_nodos.append(mapa_nodos.nodes[it_coords]['y'])\n",
    "    lista_coords_nodos.append(mapa_nodos.nodes[it_coords]['x'])\n",
    "    \n",
    "#--------------------------COORDENADAS EMPAREJADAS---------------------------------------#\n",
    "coords_nodos = []\n",
    "for i in range(0, len(lista_coords_nodos), 2):\n",
    "    coords_nodos.append(lista_coords_nodos[i:i+2])\n",
    "\n",
    "#--------------------------COORDENADAS TUPLE---------------------------------------#\n",
    "coords_list=[]\n",
    "for it_xy in coords_nodos:\n",
    "    coords_list.append(tuple(it_xy))"
   ]
  },
  {
   "cell_type": "code",
   "execution_count": null,
   "id": "smoking-academy",
   "metadata": {},
   "outputs": [],
   "source": [
    "#----------------------------TRAZADO DE LA RUTA-------------------------------------------#\n",
    "caminos.plot(ax=ax, linewidth=1, edgecolor='dimgray') #Líneas\n",
    "fig2, ax = ox.plot_graph_route(mapa_nodos, ruta)"
   ]
  },
  {
   "cell_type": "code",
   "execution_count": null,
   "id": "mature-upset",
   "metadata": {},
   "outputs": [],
   "source": [
    "#-------------------------INFORMACIÓN POR NODO DE LA RUTA----------------------------------------#\n",
    "ruta_info=ox.utils_graph.get_route_edge_attributes(mapa_nodos, ruta, attribute=None, minimize_key='length', retrieve_default=None)"
   ]
  },
  {
   "cell_type": "code",
   "execution_count": null,
   "id": "manufactured-chess",
   "metadata": {},
   "outputs": [],
   "source": [
    "distancias=[]\n",
    "for it_dist in ruta_info:\n",
    "    distancias.append(it_dist['length'])\n",
    "distancias[32]\n",
    "len(distancias)"
   ]
  },
  {
   "cell_type": "code",
   "execution_count": null,
   "id": "atmospheric-pressure",
   "metadata": {
    "scrolled": true
   },
   "outputs": [],
   "source": [
    "#-------VELOCIDAD-----# \n",
    "speed_info=[] #max_speed\n",
    "for it_speed in ruta_info:\n",
    "    if 'maxspeed' in it_speed:\n",
    "        speed_info.append(it_speed['maxspeed'])\n",
    "    else:\n",
    "        speed_info.append('65')\n",
    "        \n",
    "speed_to_float=[] #max_speed_fl\n",
    "for it_speed_fl in speed_info: \n",
    "    if type(it_speed_fl) == str:\n",
    "        if len(it_speed_fl) > 6:\n",
    "            speed_to_float.append(float(it_speed_fl[0:3]))\n",
    "        elif len(it_speed_fl) > 3 and len(it_speed_fl) < 6:\n",
    "                speed_to_float.append(float(it_speed_fl[0:2]))\n",
    "        else:\n",
    "            speed_to_float.append(float(it_speed_fl))\n",
    "    elif type(it_speed_fl) == list:\n",
    "        speed_to_float.append(float(it_speed_fl[0]))  \n",
    "        \n",
    "len(speed_to_float)"
   ]
  },
  {
   "cell_type": "code",
   "execution_count": null,
   "id": "indian-black",
   "metadata": {},
   "outputs": [],
   "source": [
    "# speed_to_float=[] #max_speed_fl\n",
    "# for it_speed_fl in speed_info: \n",
    "#     if type(it_speed_fl) == str:\n",
    "#         speed_to_float.append(float(it_speed_fl))\n",
    "#     elif type(it_speed_fl) == list:\n",
    "#         speed_to_float.append(float(it_speed_fl[0]))\n",
    "# speed_to_float\n",
    "# speed_to_float[32]"
   ]
  },
  {
   "cell_type": "code",
   "execution_count": null,
   "id": "handed-cowboy",
   "metadata": {},
   "outputs": [],
   "source": [
    "#-------TIEMPO-----#\n",
    "time=[]\n",
    "for x in range(0,len(ruta_info)):\n",
    "    time.append(round(distancias[x]/(speed_to_float[x]*1000/3600)))"
   ]
  },
  {
   "cell_type": "code",
   "execution_count": null,
   "id": "exceptional-brass",
   "metadata": {},
   "outputs": [],
   "source": [
    "#---------HORA DE PASADA POR NODO-----------#\n",
    "horas_intermedias = hora_salida\n",
    "hora_llegada=hora_salida #Únicamente para un dato final\n",
    "horas_trayecto = []\n",
    "for it_trayecto in time:\n",
    "    horas_trayecto.append(horas_intermedias + timedelta(seconds=it_trayecto))\n",
    "    horas_intermedias += timedelta(seconds=it_trayecto)\n",
    "    \n",
    "for it_llegada in time:\n",
    "    hora_llegada+=timedelta(seconds=it_llegada)\n",
    "\n",
    "#-------------FECHAS ADAPTADAS PARA EL ANÁLISIS-----------#\n",
    "datetimes=[]\n",
    "for x in range(1,len(horas_trayecto)):\n",
    "    datetimes.append(pd.date_range(start=horas_trayecto[x-1], end=horas_trayecto[x]- timedelta(seconds=1), freq='1S'))\n",
    "\n",
    "\n",
    "#------DATAFRAME--------#\n",
    "horas_trayecto_pd =[]\n",
    "for x in range(1,len(horas_trayecto)):\n",
    "    for i in range(0,len(datetimes[x-1])): \n",
    "         horas_trayecto_pd.append(datetimes[x-1][i])\n",
    "df = pd.DataFrame(horas_trayecto_pd,columns=['Hora'])\n",
    "df.set_index('Hora', inplace = True)"
   ]
  },
  {
   "cell_type": "code",
   "execution_count": null,
   "id": "personalized-ocean",
   "metadata": {},
   "outputs": [],
   "source": [
    "#--------------------------NOMBRE DE LAS CALLES---------------------------------------#\n",
    "nombre_calles =[]\n",
    "for it_direccion in ruta_info:\n",
    "     if 'name' in it_direccion:\n",
    "        nombre_calles.append(it_direccion['name'])\n",
    "     else:\n",
    "        nombre_calles.append(\" \")\n",
    "    \n",
    "\n",
    "\n",
    "#------DATAFRAME--------#\n",
    "nombre_calles_pd=[]\n",
    "for x in range(1,len(horas_trayecto)):\n",
    "    for i in range(0,len(datetimes[x-1])):\n",
    "        nombre_calles_pd.append(nombre_calles[x-1])\n",
    "df['Dirección'] = nombre_calles_pd"
   ]
  },
  {
   "cell_type": "code",
   "execution_count": null,
   "id": "unnecessary-labor",
   "metadata": {},
   "outputs": [],
   "source": [
    "#------DATAFRAME--------#\n",
    "time_pd=[]\n",
    "for x in range(1,len(horas_trayecto)):\n",
    "    for i in range(0,len(datetimes[x-1])):\n",
    "        time_pd.append(time[x])\n",
    "df['Tiempo'] = time_pd"
   ]
  },
  {
   "cell_type": "code",
   "execution_count": null,
   "id": "healthy-anime",
   "metadata": {},
   "outputs": [],
   "source": [
    "#--------------------------NODOS INICIALES DE LAS CALLES---------------------------------------#\n",
    "nodo1_calle =[]\n",
    "for x in range(0,len(ruta)-1):\n",
    "    nodo1_calle.append(ruta[x])\n",
    "    \n",
    "#------DATAFRAME--------#\n",
    "nodo1_calle_pd=[]\n",
    "for x in range(1,len(horas_trayecto)):\n",
    "    for i in range(0,len(datetimes[x-1])):\n",
    "        nodo1_calle_pd.append(nodo1_calle[x-1])\n",
    "df['Nodo Origen'] = nodo1_calle_pd"
   ]
  },
  {
   "cell_type": "code",
   "execution_count": null,
   "id": "bright-championship",
   "metadata": {},
   "outputs": [],
   "source": [
    "#--------------------------COORDENADAS INICIALES DE LAS CALLES---------------------------------------#\n",
    "coords1_calle =[]\n",
    "for x in range(0,len(ruta)-1): #Elimino la ultima coordenada para tener longitud 30\n",
    "    coords1_calle.append(coords_nodos[x])\n",
    "    \n",
    "#------DATAFRAME--------#\n",
    "coords1_calle_pd=[]\n",
    "for x in range(1,len(horas_trayecto)):\n",
    "    for i in range(0,len(datetimes[x-1])):\n",
    "       coords1_calle_pd.append(coords_list[x-1]) \n",
    "df['Origen'] = coords1_calle_pd"
   ]
  },
  {
   "cell_type": "code",
   "execution_count": null,
   "id": "external-cholesterol",
   "metadata": {},
   "outputs": [],
   "source": [
    "#--------------------------NODOS FINALES DE LAS CALLES---------------------------------------#\n",
    "nodo2_calle =[]\n",
    "for x in range(1,len(ruta)):\n",
    "    nodo2_calle.append(ruta[x])\n",
    "    \n",
    "#------DATAFRAME--------#\n",
    "nodo2_calle_pd=[]\n",
    "for x in range(1,len(horas_trayecto)):\n",
    "    for i in range(0,len(datetimes[x-1])):\n",
    "        nodo2_calle_pd.append(nodo2_calle[x-1])\n",
    "df['Nodo Destino'] = nodo2_calle_pd"
   ]
  },
  {
   "cell_type": "code",
   "execution_count": null,
   "id": "super-photograph",
   "metadata": {},
   "outputs": [],
   "source": [
    "#-------------------------COORDENADAS FINALES DE LAS CALLES--------------------------------------#\n",
    "coords2_calle =[]\n",
    "for x in range(1,len(ruta)):\n",
    "    coords2_calle.append(coords_nodos[x])\n",
    "    \n",
    "#------DATAFRAME--------#\n",
    "coords2_calle_pd=[]\n",
    "for x in range(1,len(horas_trayecto)):\n",
    "    for i in range(0,len(datetimes[x-1])):\n",
    "      coords2_calle_pd.append(coords_list[x])    \n",
    "df['Destino'] = coords2_calle_pd"
   ]
  },
  {
   "cell_type": "code",
   "execution_count": null,
   "id": "registered-shuttle",
   "metadata": {},
   "outputs": [],
   "source": [
    "#----------------------------VELOCIDAD POR CALLE EN KPH-------------------------------------------#\n",
    "calles_speed =[]\n",
    "for it_speed in speed_to_float:\n",
    "    calles_speed.append(it_speed)\n",
    "    \n",
    "#------DATAFRAME--------#\n",
    "calles_speed_pd=[]\n",
    "for x in range(1,len(horas_trayecto)):\n",
    "    for i in range(0,len(datetimes[x-1])):\n",
    "        calles_speed_pd.append(calles_speed[x-1])\n",
    "df['km/h'] = calles_speed_pd"
   ]
  },
  {
   "cell_type": "code",
   "execution_count": null,
   "id": "exceptional-transmission",
   "metadata": {
    "scrolled": true
   },
   "outputs": [],
   "source": [
    "#-------ACIMUT SEGÚN LOS GIROS DEL COCHE------#\n",
    "import utm\n",
    "import numpy as np\n",
    "import math\n",
    "p0 = [0, 0]\n",
    "p1 = (0, 1)\n",
    "v0 = np.array(p1) - np.array(p0) #FIJA\n",
    "\n",
    "coords_to_utm=[]\n",
    "utm_list=[]\n",
    "utm_tuple=[]\n",
    "utm_resta=[]\n",
    "coords_acimut=[]\n",
    "\n",
    "\n",
    "\n",
    "for x in range(1,len(coords_list)):\n",
    "    coords_to_utm.append(utm.from_latlon(coords_list[x-1][0],coords_list[x-1][1]))\n",
    "    \n",
    "for x in range(1,len(coords_list)):\n",
    "    utm_list.append(coords_to_utm[x-1][0])\n",
    "    utm_list.append(coords_to_utm[x-1][1])\n",
    "\n",
    "for x in range(0, len(utm_list), 2):\n",
    "    utm_tuple.append(utm_list[x:x+2])\n",
    "\n",
    "for x in range(1,len(coords_list)-1):\n",
    "    utm_resta.append(np.array(utm_tuple[x]) - np.array(utm_tuple[x-1]))\n",
    "    \n",
    "for x in range(1,len(coords_list)-1):\n",
    "    coords_acimut.append(round(math.degrees(np.math.atan2(np.linalg.det([utm_resta[x-1],v0]),np.dot(utm_resta[x-1],v0)))))\n",
    "\n",
    "\n",
    "    \n",
    "#------DATAFRAME--------#\n",
    "angulo_pd=[]\n",
    "for x in range(1,len(horas_trayecto)):\n",
    "    for i in range(0,len(datetimes[x-1])):\n",
    "        if coords_acimut[x-1] < 0:\n",
    "            angulo_pd.append(coords_acimut[x-1]+360)\n",
    "        else:\n",
    "            angulo_pd.append(coords_acimut[x-1])\n",
    "        \n",
    "df['Azimuth']=angulo_pd"
   ]
  },
  {
   "cell_type": "code",
   "execution_count": null,
   "id": "devoted-shower",
   "metadata": {},
   "outputs": [],
   "source": [
    "solar_pos=[]\n",
    "dni_extra=[]\n",
    "airmass_rel =[]\n",
    "pressure = pvlib.atmosphere.alt2pres(altitude)\n",
    "airmass_abs = []\n",
    "turbidez=[]\n",
    "val_sol=[]\n",
    "for x in range(1,len(horas_trayecto)):\n",
    "    naive_times = pd.date_range(start=horas_trayecto[x-1], end=horas_trayecto[x]- timedelta(seconds=1), freq='1S')\n",
    "    times = naive_times.tz_localize(timezone)\n",
    "    solar_pos.append(pvlib.solarposition.get_solarposition(times, coords_list[x-1][0], coords_list[x-1][1]))\n",
    "    dni_extra.append(pvlib.irradiance.get_extra_radiation(times))\n",
    "    turbidez.append(pvlib.clearsky.lookup_linke_turbidity(times, coords_list[x-1][0], coords_list[x-1][1]))\n",
    "    \n",
    "for x in range(1,len(horas_trayecto)):\n",
    "    airmass_rel.append(pvlib.atmosphere.get_relative_airmass(solar_pos[x-1]['apparent_zenith']))\n",
    "\n",
    "for x in range(1,len(horas_trayecto)):\n",
    "    airmass_abs.append(pvlib.atmosphere.get_absolute_airmass(airmass_rel[x-1], pressure))\n",
    "\n",
    "for x in range(1,len(horas_trayecto)):\n",
    "    val_sol.append(pvlib.clearsky.ineichen(solar_pos[x-1]['apparent_zenith'], airmass_abs[x-1], turbidez[x-1],\n",
    "                                 dni_extra=dni_extra[x-1], altitude=altitude))\n"
   ]
  },
  {
   "cell_type": "code",
   "execution_count": null,
   "id": "raising-terrace",
   "metadata": {},
   "outputs": [],
   "source": [
    "#------------ TECHO----------------------#\n",
    "irrad_techo=[]\n",
    "for x in range (1,len(horas_trayecto)):\n",
    "    irrad_techo.append(pvlib.irradiance.get_total_irradiance(superf_techo['surface_tilt'],coords_acimut[x-1], \n",
    "    solar_pos[x-1]['zenith'] , solar_pos[x-1]['azimuth'], val_sol[x-1]['dni'], val_sol[x-1]['ghi'] , \n",
    "    val_sol[x-1]['dhi'], dni_extra=dni_extra[x-1], airmass=airmass_abs[x-1], albedo=0.10,\n",
    "    surface_type=None, model='isotropic', model_perez='allsitescomposite1990'))\n",
    "len(irrad_techo)\n",
    "poa_global_filtro_techo=[] #Filtramos la parte de poa_global\n",
    "df_global_techo=[]\n",
    "poa_global_lista_techo=[]\n",
    "for x in range(1,len(horas_trayecto)):\n",
    "    poa_global_filtro_techo.append(irrad_techo[x-1]['poa_global'])\n",
    "    df_global_techo.append(pd.DataFrame(poa_global_filtro_techo[x-1]))\n",
    "    \n",
    "for x in range(1,len(horas_trayecto)):   \n",
    "    poa_global_lista_techo.append(df_global_techo[x-1].iloc[:, 0]) # Primera columna\n",
    "    \n",
    "poa_global_techo=[] \n",
    "for x in range(1,len(horas_trayecto)): \n",
    "    poa_global_techo.append(poa_global_lista_techo[x-1])\n",
    "    \n",
    "#------DATAFRAME--------#\n",
    "poa_global_techo_pd=[]\n",
    "for x in range(1,len(horas_trayecto)):\n",
    "    for i in range(0,len(datetimes[x-1])):\n",
    "        poa_global_techo_pd.append(poa_global_techo[x-1][i])\n",
    "df['Techo'] = poa_global_techo_pd"
   ]
  },
  {
   "cell_type": "code",
   "execution_count": null,
   "id": "touched-champion",
   "metadata": {},
   "outputs": [],
   "source": [
    "#------------ CAPÓ----------------------#\n",
    "irrad_capo=[]\n",
    "for x in range (1,len(horas_trayecto)):\n",
    "    irrad_capo.append(pvlib.irradiance.get_total_irradiance(superf_capo['surface_tilt'],coords_acimut[x-1], \n",
    "    solar_pos[x-1]['zenith'] , solar_pos[x-1]['azimuth'], val_sol[x-1]['dni'], val_sol[x-1]['ghi'] , \n",
    "    val_sol[x-1]['dhi'], dni_extra=dni_extra[x-1], airmass=airmass_abs[x-1], albedo=0.10,\n",
    "    surface_type=None, model='isotropic', model_perez='allsitescomposite1990'))\n",
    "len(irrad_capo)\n",
    "poa_global_filtro_capo=[] #Filtramos la parte de poa_global\n",
    "df_global_capo=[]\n",
    "poa_global_lista_capo=[]\n",
    "for x in range(1,len(horas_trayecto)):\n",
    "    poa_global_filtro_capo.append(irrad_capo[x-1]['poa_global'])\n",
    "    df_global_capo.append(pd.DataFrame(poa_global_filtro_capo[x-1]))\n",
    "    \n",
    "for x in range(1,len(horas_trayecto)):   \n",
    "    poa_global_lista_capo.append(df_global_capo[x-1].iloc[:, 0]) # Primera columna\n",
    "    \n",
    "poa_global_capo=[] \n",
    "for x in range(1,len(horas_trayecto)): \n",
    "    poa_global_capo.append(poa_global_lista_capo[x-1])\n",
    "    \n",
    "#------DATAFRAME--------#\n",
    "poa_global_capo_pd=[]\n",
    "for x in range(1,len(horas_trayecto)):\n",
    "    for i in range(0,len(datetimes[x-1])):\n",
    "        poa_global_capo_pd.append(poa_global_capo[x-1][i])\n",
    "df['Capó'] = poa_global_capo_pd"
   ]
  },
  {
   "cell_type": "code",
   "execution_count": null,
   "id": "gorgeous-boutique",
   "metadata": {},
   "outputs": [],
   "source": [
    "#------------ MALETERO----------------------#\n",
    "irrad_maletero=[]\n",
    "for x in range (1,len(horas_trayecto)):\n",
    "    irrad_maletero.append(pvlib.irradiance.get_total_irradiance(superf_maletero['surface_tilt'],coords_acimut[x-1]+180, \n",
    "    solar_pos[x-1]['zenith'] , solar_pos[x-1]['azimuth'], val_sol[x-1]['dni'], val_sol[x-1]['ghi'] , \n",
    "    val_sol[x-1]['dhi'], dni_extra=dni_extra[x-1], airmass=airmass_abs[x-1], albedo=0.10,\n",
    "    surface_type=None, model='isotropic', model_perez='allsitescomposite1990'))\n",
    "len(irrad_maletero)\n",
    "poa_global_filtro_maletero=[] #Filtramos la parte de poa_global\n",
    "df_global_maletero=[]\n",
    "poa_global_lista_maletero=[]\n",
    "for x in range(1,len(horas_trayecto)):\n",
    "    poa_global_filtro_maletero.append(irrad_maletero[x-1]['poa_global'])\n",
    "    df_global_maletero.append(pd.DataFrame(poa_global_filtro_maletero[x-1]))\n",
    "    \n",
    "for x in range(1,len(horas_trayecto)):   \n",
    "    poa_global_lista_maletero.append(df_global_maletero[x-1].iloc[:, 0]) # Primera columna\n",
    "    \n",
    "poa_global_maletero=[] \n",
    "for x in range(1,len(horas_trayecto)): \n",
    "    poa_global_maletero.append(poa_global_lista_maletero[x-1])\n",
    "    \n",
    "#------DATAFRAME--------#\n",
    "poa_global_maletero_pd=[]\n",
    "for x in range(1,len(horas_trayecto)):\n",
    "    for i in range(0,len(datetimes[x-1])):\n",
    "         poa_global_maletero_pd.append(poa_global_maletero[x-1][i])\n",
    "df['Maletero'] = poa_global_maletero_pd"
   ]
  },
  {
   "cell_type": "code",
   "execution_count": null,
   "id": "informational-magazine",
   "metadata": {},
   "outputs": [],
   "source": [
    "#------------ PARED DERECHA----------------------#\n",
    "irrad_derecha=[]\n",
    "for x in range (1,len(horas_trayecto)):\n",
    "    irrad_derecha.append(pvlib.irradiance.get_total_irradiance(superf_derecha['surface_tilt'],coords_acimut[x-1]+90, \n",
    "    solar_pos[x-1]['zenith'] , solar_pos[x-1]['azimuth'], val_sol[x-1]['dni'], val_sol[x-1]['ghi'] , \n",
    "    val_sol[x-1]['dhi'], dni_extra=dni_extra[x-1], airmass=airmass_abs[x-1], albedo=0.10,\n",
    "    surface_type=None, model='isotropic', model_perez='allsitescomposite1990'))\n",
    "len(irrad_derecha)\n",
    "poa_global_filtro_derecha=[] #Filtramos la parte de poa_global\n",
    "df_global_derecha=[]\n",
    "poa_global_lista_derecha=[]\n",
    "for x in range(1,len(horas_trayecto)):\n",
    "    poa_global_filtro_derecha.append(irrad_derecha[x-1]['poa_global'])\n",
    "    df_global_derecha.append(pd.DataFrame(poa_global_filtro_derecha[x-1]))\n",
    "    \n",
    "for x in range(1,len(horas_trayecto)):   \n",
    "    poa_global_lista_derecha.append(df_global_derecha[x-1].iloc[:, 0]) # Primera columna\n",
    "    \n",
    "poa_global_derecha=[] \n",
    "for x in range(1,len(horas_trayecto)): \n",
    "    poa_global_derecha.append(poa_global_lista_derecha[x-1])\n",
    "    \n",
    "#------DATAFRAME--------#\n",
    "poa_global_derecha_pd=[]\n",
    "for x in range(1,len(horas_trayecto)):\n",
    "    for i in range(0,len(datetimes[x-1])):\n",
    "        poa_global_derecha_pd.append(poa_global_derecha[x-1][i])\n",
    "df['Derecha'] = poa_global_derecha_pd"
   ]
  },
  {
   "cell_type": "code",
   "execution_count": null,
   "id": "unknown-member",
   "metadata": {},
   "outputs": [],
   "source": [
    "#------------ PARED IZQUIERDA----------------------#\n",
    "irrad_izquierda=[]\n",
    "for x in range (1,len(horas_trayecto)):\n",
    "    irrad_izquierda.append(pvlib.irradiance.get_total_irradiance(superf_izquierda['surface_tilt'],coords_acimut[x-1]-90, \n",
    "    solar_pos[x-1]['zenith'] , solar_pos[x-1]['azimuth'], val_sol[x-1]['dni'], val_sol[x-1]['ghi'] , \n",
    "    val_sol[x-1]['dhi'], dni_extra=dni_extra[x-1], airmass=airmass_abs[x-1], albedo=0.10,\n",
    "    surface_type=None, model='isotropic', model_perez='allsitescomposite1990'))\n",
    "len(irrad_izquierda)\n",
    "poa_global_filtro_izquierda=[] #Filtramos la parte de poa_global\n",
    "df_global_izquierda=[]\n",
    "poa_global_lista_izquierda=[]\n",
    "for x in range(1,len(horas_trayecto)):\n",
    "    poa_global_filtro_izquierda.append(irrad_izquierda[x-1]['poa_global'])\n",
    "    df_global_izquierda.append(pd.DataFrame(poa_global_filtro_izquierda[x-1]))\n",
    "    \n",
    "for x in range(1,len(horas_trayecto)):   \n",
    "    poa_global_lista_izquierda.append(df_global_izquierda[x-1].iloc[:, 0]) # Primera columna\n",
    "    \n",
    "poa_global_izquierda=[] \n",
    "for x in range(1,len(horas_trayecto)): \n",
    "    poa_global_izquierda.append(poa_global_lista_izquierda[x-1])\n",
    "    \n",
    "#------DATAFRAME--------#\n",
    "poa_global_izquierda_pd=[]\n",
    "for x in range(1,len(horas_trayecto)):\n",
    "    for i in range(0,len(datetimes[x-1])):\n",
    "        poa_global_izquierda_pd.append(poa_global_izquierda[x-1][i])\n",
    "df['Izquierda'] = poa_global_izquierda_pd"
   ]
  },
  {
   "cell_type": "code",
   "execution_count": null,
   "id": "cultural-omega",
   "metadata": {},
   "outputs": [],
   "source": [
    "pd.set_option(\"max_columns\", None) #Showing only two columns\n",
    "pd.set_option(\"max_rows\", None)\n",
    "df"
   ]
  },
  {
   "cell_type": "code",
   "execution_count": null,
   "id": "headed-strategy",
   "metadata": {},
   "outputs": [],
   "source": [
    "import matplotlib.pyplot as plt\n",
    "\n",
    "df.plot(y=\"Maletero\",kind=\"bar\");"
   ]
  },
  {
   "cell_type": "code",
   "execution_count": null,
   "id": "occupied-recommendation",
   "metadata": {},
   "outputs": [],
   "source": [
    "df.plot.area(y='Maletero')\n",
    "df.plot.area(y='Capó')\n",
    "df.plot.area(y='Techo')\n",
    "df.plot.area(y='Derecha')\n",
    "df.plot.area(y='Izquierda')"
   ]
  },
  {
   "cell_type": "code",
   "execution_count": null,
   "id": "greenhouse-workstation",
   "metadata": {},
   "outputs": [],
   "source": [
    "df2=pd.DataFrame(df['Capó'])\n",
    "df2['Maletero'] = poa_global_maletero_pd\n",
    "df2['Techo'] = poa_global_techo_pd\n",
    "df2['Derecha'] = poa_global_derecha_pd\n",
    "df2['Izquierda'] = poa_global_izquierda_pd\n",
    "df2.plot();"
   ]
  },
  {
   "cell_type": "code",
   "execution_count": null,
   "id": "structured-stadium",
   "metadata": {
    "scrolled": true
   },
   "outputs": [],
   "source": [
    "df3=pd.DataFrame(df['Azimuth'])\n",
    "df3.plot()"
   ]
  }
 ],
 "metadata": {
  "kernelspec": {
   "display_name": "Python 3",
   "language": "python",
   "name": "python3"
  },
  "language_info": {
   "codemirror_mode": {
    "name": "ipython",
    "version": 3
   },
   "file_extension": ".py",
   "mimetype": "text/x-python",
   "name": "python",
   "nbconvert_exporter": "python",
   "pygments_lexer": "ipython3",
   "version": "3.9.2"
  }
 },
 "nbformat": 4,
 "nbformat_minor": 5
}
